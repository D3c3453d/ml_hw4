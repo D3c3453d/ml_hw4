{
  "cells": [
    {
      "cell_type": "markdown",
      "metadata": {
        "id": "GlyMLKngmf-t"
      },
      "source": [
        "# Prototypical Netwoks on the Omniglot dataset"
      ]
    },
    {
      "cell_type": "markdown",
      "metadata": {
        "id": "VpbJzrk1o7X0"
      },
      "source": [
        "Заданием является воспроизведение результатов статьи [Prototypical Networks for Few-shot Learning](https://arxiv.org/pdf/1703.05175v2.pdf)"
      ]
    },
    {
      "cell_type": "markdown",
      "metadata": {
        "id": "uh1W3Lszseoa"
      },
      "source": [
        "## Import libraries"
      ]
    },
    {
      "cell_type": "code",
      "execution_count": 1,
      "metadata": {
        "id": "F8XY5yCCZCYZ"
      },
      "outputs": [],
      "source": [
        "import os\n",
        "import json\n",
        "import random\n",
        "\n",
        "import cv2\n",
        "import numpy as np\n",
        "import matplotlib.pyplot as plt\n",
        "import wandb\n",
        "\n",
        "import torch\n",
        "import torch.nn as nn\n",
        "import torch.nn.functional as F\n",
        "import torch.optim as optim\n",
        "import torchvision\n",
        "\n",
        "from tqdm import tqdm, tnrange\n",
        "\n",
        "from sklearn.manifold import TSNE"
      ]
    },
    {
      "cell_type": "code",
      "execution_count": 2,
      "metadata": {
        "colab": {
          "base_uri": "https://localhost:8080/"
        },
        "id": "fkpmmKF3oJ7_",
        "outputId": "ecb4505a-3844-4b61-eeb1-2282b75dfb71"
      },
      "outputs": [
        {
          "name": "stdout",
          "output_type": "stream",
          "text": [
            "Using device: cuda\n",
            "GPU: NVIDIA GeForce RTX 4070 Laptop GPU\n",
            "Memory Allocated: 0.0 GB\n",
            "Memory Cached:    0.0 GB\n"
          ]
        }
      ],
      "source": [
        "# --- Фиксация random seed для воспроизводимости ---\n",
        "SEED = 42\n",
        "random.seed(SEED)\n",
        "np.random.seed(SEED)\n",
        "torch.manual_seed(SEED)\n",
        "if torch.cuda.is_available():\n",
        "    torch.cuda.manual_seed_all(SEED)\n",
        "\n",
        "# --- Проверим устройство (GPU/CPU) ---\n",
        "DEVICE = torch.device(\"cuda\" if torch.cuda.is_available() else \"cpu\")\n",
        "print(f\"Using device: {DEVICE}\")\n",
        "if DEVICE.type == \"cuda\":\n",
        "    print(\"GPU:\", torch.cuda.get_device_name(0))\n",
        "    print(\"Memory Allocated: {:.1f} GB\".format(torch.cuda.memory_allocated(0) / 1024 ** 3))\n",
        "    print(\"Memory Cached:    {:.1f} GB\".format(torch.cuda.memory_reserved(0) / 1024 ** 3))"
      ]
    },
    {
      "cell_type": "code",
      "execution_count": 3,
      "metadata": {
        "id": "c5gNzEX3l_yo"
      },
      "outputs": [],
      "source": [
        "# --- Количество эпох и размер эпохи (эпизоды) ---\n",
        "max_epoch    = 5       # всего обучаем 5 «эпох»\n",
        "epoch_size   = 2000    # в каждой эпохе 2000 эпизодов\n",
        "\n",
        "# --- Параметры few-shot (прототипический сети) ---\n",
        "n_way        = 60      # число классов в задаче (N-way)\n",
        "n_support    = 5       # сколько примеров на класс в поддержке (K-shot)\n",
        "n_query      = 5       # сколько запросов на класс\n",
        "\n",
        "# --- Скорость обучения ---\n",
        "learning_rate = 0.001\n",
        "\n",
        "# --- При тестировании (будут иные значения n_way и т. д.) ---\n",
        "test_n_way     = 5     # на этапе теста чаще N-way = 5\n",
        "test_n_support = 5\n",
        "test_n_query   = 5\n",
        "test_episodes  = 1000  # число прогонов (эпизодов) при тесте"
      ]
    },
    {
      "cell_type": "markdown",
      "metadata": {
        "id": "Ebffp6XBskUN"
      },
      "source": [
        "## Import data"
      ]
    },
    {
      "cell_type": "code",
      "execution_count": 4,
      "metadata": {
        "colab": {
          "base_uri": "https://localhost:8080/"
        },
        "id": "4CM7eq5emLA5",
        "outputId": "9bf6dabf-949a-4d41-b4bf-bddea3228673"
      },
      "outputs": [
        {
          "name": "stdout",
          "output_type": "stream",
          "text": [
            "--2025-06-03 23:15:24--  https://github.com/brendenlake/omniglot/raw/master/python/images_evaluation.zip\n",
            "Resolving github.com (github.com)... 140.82.121.4\n",
            "Connecting to github.com (github.com)|140.82.121.4|:443... connected.\n",
            "HTTP request sent, awaiting response... 302 Found\n",
            "Location: https://raw.githubusercontent.com/brendenlake/omniglot/master/python/images_evaluation.zip [following]\n",
            "--2025-06-03 23:15:24--  https://raw.githubusercontent.com/brendenlake/omniglot/master/python/images_evaluation.zip\n",
            "Resolving raw.githubusercontent.com (raw.githubusercontent.com)... 185.199.109.133, 185.199.108.133, 185.199.110.133, ...\n",
            "Connecting to raw.githubusercontent.com (raw.githubusercontent.com)|185.199.109.133|:443... connected.\n",
            "HTTP request sent, awaiting response... 200 OK\n",
            "Length: 6462886 (6.2M) [application/zip]\n",
            "Saving to: ‘images_evaluation.zip’\n",
            "\n",
            "images_evaluation.z 100%[===================>]   6.16M  5.79MB/s    in 1.1s    \n",
            "\n",
            "2025-06-03 23:15:26 (5.79 MB/s) - ‘images_evaluation.zip’ saved [6462886/6462886]\n",
            "\n",
            "--2025-06-03 23:15:26--  https://github.com/brendenlake/omniglot/raw/master/python/images_background.zip\n",
            "Resolving github.com (github.com)... 140.82.121.4\n",
            "Connecting to github.com (github.com)|140.82.121.4|:443... connected.\n",
            "HTTP request sent, awaiting response... 302 Found\n",
            "Location: https://raw.githubusercontent.com/brendenlake/omniglot/master/python/images_background.zip [following]\n",
            "--2025-06-03 23:15:26--  https://raw.githubusercontent.com/brendenlake/omniglot/master/python/images_background.zip\n",
            "Resolving raw.githubusercontent.com (raw.githubusercontent.com)... 185.199.109.133, 185.199.108.133, 185.199.110.133, ...\n",
            "Connecting to raw.githubusercontent.com (raw.githubusercontent.com)|185.199.109.133|:443... connected.\n",
            "HTTP request sent, awaiting response... 200 OK\n",
            "Length: 9464212 (9.0M) [application/zip]\n",
            "Saving to: ‘images_background.zip’\n",
            "\n",
            "images_background.z 100%[===================>]   9.03M  5.10MB/s    in 1.8s    \n",
            "\n",
            "2025-06-03 23:15:28 (5.10 MB/s) - ‘images_background.zip’ saved [9464212/9464212]\n",
            "\n"
          ]
        }
      ],
      "source": [
        "!wget https://github.com/brendenlake/omniglot/raw/master/python/images_evaluation.zip\n",
        "!wget https://github.com/brendenlake/omniglot/raw/master/python/images_background.zip\n",
        "!unzip -qq images_background.zip\n",
        "!unzip -qq images_evaluation.zip"
      ]
    },
    {
      "cell_type": "markdown",
      "metadata": {
        "id": "l33V3V0asntp"
      },
      "source": [
        "## Read data"
      ]
    },
    {
      "cell_type": "markdown",
      "metadata": {
        "id": "bMLu94FStR5n"
      },
      "source": [
        "Набор данных Omniglot содержит 1623 различных рукописных символа из 50 различных алфавитов. Каждый из 1623 персонажей был нарисован онлайн с помощью Amazon Mechanical Turk 20 разными людьми (то есть 20 примеров на персонажа).\n",
        "Он разделен на фоновый набор из 30 алфавитов и оценочный набор из 20 алфавитов. Мы будем использовать фоновый набор для обучения и оценочный набор для тестирования."
      ]
    },
    {
      "cell_type": "markdown",
      "metadata": {
        "id": "tGvYgDAZo7X2"
      },
      "source": [
        "### Задание № 1 - реализуйте функцию чтения данных\n",
        "\n",
        "Вы можете увеличить размер обучающей выборки, если для каждого символа введете 4 класса, соответствующих повороту на 90 градусов. То есть из одного класса сделать x4."
      ]
    },
    {
      "cell_type": "code",
      "execution_count": 5,
      "metadata": {
        "id": "BOpTRSb1o7X2"
      },
      "outputs": [],
      "source": [
        "def read_alphabets(alphabet_directory_path):\n",
        "    \"\"\"\n",
        "    Reads all the characters from a given alphabet_directory\n",
        "    Args:\n",
        "      alphabet_directory_path (str): path to diretory with files\n",
        "    Returns:\n",
        "      datax (np.array): array of path name of images\n",
        "      datay (np.array): array of labels\n",
        "    \"\"\"\n",
        "    datax = []  # all file names of images\n",
        "    datay = []  # all class names\n",
        "\n",
        "    # В папке alphabet_directory_path: набор подпапок, каждая — класс (символ)\n",
        "    # Мы создаём 4 «поворота» для каждого класса.\n",
        "    alphabet_name = os.path.basename(os.path.dirname(alphabet_directory_path))\n",
        "    for character in sorted(os.listdir(alphabet_directory_path)):\n",
        "        # full path к каждому файлу-изображению\n",
        "        character_path = os.path.join(alphabet_directory_path, character)\n",
        "        # (1) оригинальный класс\n",
        "        cls_label = f\"{alphabet_name}/{character}\"\n",
        "        # названия «поворотов»\n",
        "        labels = [cls_label, cls_label + \"_90\", cls_label + \"_180\", cls_label + \"_270\"]\n",
        "\n",
        "        # В каждом классе много изображений (28×28, ч/б) - делаем повороты\n",
        "        imgs_orig   = []\n",
        "        imgs_rot90  = []\n",
        "        imgs_rot180 = []\n",
        "        imgs_rot270 = []\n",
        "\n",
        "        for img_file in sorted(os.listdir(character_path)):\n",
        "            img = cv2.imread(os.path.join(character_path, img_file), cv2.IMREAD_GRAYSCALE)\n",
        "            img = cv2.resize(img, (28, 28))\n",
        "            # чтобы получить 3 канала (RGB) для CNN, дублируем в 3 канала:\n",
        "            img = np.stack([img, img, img], axis=2)\n",
        "\n",
        "            img90  = cv2.rotate(img, cv2.ROTATE_90_CLOCKWISE)\n",
        "            img180 = cv2.rotate(img, cv2.ROTATE_180)\n",
        "            img270 = cv2.rotate(img, cv2.ROTATE_90_COUNTERCLOCKWISE)\n",
        "\n",
        "            imgs_orig.append(img)\n",
        "            imgs_rot90.append(img90)\n",
        "            imgs_rot180.append(img180)\n",
        "            imgs_rot270.append(img270)\n",
        "\n",
        "        # Добавляем в списки сразу - каждый «поворот» отдельный подкласс\n",
        "        datax.append(imgs_orig)\n",
        "        datax.append(imgs_rot90)\n",
        "        datax.append(imgs_rot180)\n",
        "        datax.append(imgs_rot270)\n",
        "\n",
        "        datay.append(labels[0])\n",
        "        datay.append(labels[1])\n",
        "        datay.append(labels[2])\n",
        "        datay.append(labels[3])\n",
        "\n",
        "    return np.array(datax), np.array(datay)"
      ]
    },
    {
      "cell_type": "code",
      "execution_count": 6,
      "metadata": {
        "id": "SZEnE6Xoo7X2"
      },
      "outputs": [],
      "source": [
        "def read_images(base_directory):\n",
        "    \"\"\"\n",
        "    Reads all the alphabets from the base_directory\n",
        "    Uses multithreading to decrease the reading time drastically\n",
        "    \"\"\"\n",
        "    datax, datay = None, None\n",
        "    alphabets = sorted(os.listdir(base_directory))\n",
        "\n",
        "    for i, alphabet in enumerate(alphabets):\n",
        "        alphabet_path = os.path.join(base_directory, alphabet) + \"/\"\n",
        "        datax_i, datay_i = read_alphabets(alphabet_path)\n",
        "        if datax is None:\n",
        "            datax, datay = datax_i, datay_i\n",
        "        else:\n",
        "            datax = np.concatenate([datax, datax_i], axis=0)\n",
        "            datay = np.concatenate([datay, datay_i], axis=0)\n",
        "\n",
        "    return datax, datay"
      ]
    },
    {
      "cell_type": "code",
      "execution_count": 7,
      "metadata": {
        "id": "P7UN-n0l7aT0"
      },
      "outputs": [],
      "source": [
        "trainx, trainy = read_images(\"images_background\")"
      ]
    },
    {
      "cell_type": "code",
      "execution_count": 8,
      "metadata": {
        "id": "G8urUFzNAaYA"
      },
      "outputs": [],
      "source": [
        "testx, testy = read_images(\"images_evaluation\")"
      ]
    },
    {
      "cell_type": "code",
      "execution_count": 9,
      "metadata": {
        "colab": {
          "base_uri": "https://localhost:8080/"
        },
        "id": "Li3bT2bPAdih",
        "outputId": "69f2435a-e38b-45e1-e494-b825b3a6d4fa"
      },
      "outputs": [
        {
          "data": {
            "text/plain": [
              "((3856, 20, 28, 28, 3), (3856,), (2636, 20, 28, 28, 3), (2636,))"
            ]
          },
          "execution_count": 9,
          "metadata": {},
          "output_type": "execute_result"
        }
      ],
      "source": [
        "trainx.shape, trainy.shape, testx.shape, testy.shape"
      ]
    },
    {
      "cell_type": "markdown",
      "metadata": {
        "id": "J2VcplJ3xA-z"
      },
      "source": [
        "## Create samples"
      ]
    },
    {
      "cell_type": "code",
      "execution_count": 10,
      "metadata": {
        "id": "oDOhxCjd24bw"
      },
      "outputs": [],
      "source": [
        "def extract_sample(n_way, n_support, n_query, datax, datay):\n",
        "    \"\"\"\n",
        "    Picks random sample of size n_support + n_querry, for n_way classes\n",
        "    Args:\n",
        "      n_way (int): number of classes in a classification task\n",
        "      n_support (int): number of labeled examples per class in the support set\n",
        "      n_query (int): number of labeled examples per class in the query set\n",
        "      datax (np.array): dataset of images\n",
        "      datay (np.array): dataset of labels\n",
        "    Returns:\n",
        "      (dict) of:\n",
        "        (torch.Tensor): sample of images. Size (n_way, n_support + n_query, (dim))\n",
        "        (int): n_way\n",
        "        (int): n_support\n",
        "        (int): n_query\n",
        "    \"\"\"\n",
        "    all_classes = np.unique(datay)\n",
        "    chosen = np.random.choice(all_classes, size=n_way, replace=False)\n",
        "    sample_images = []\n",
        "\n",
        "    for cls_label in chosen:\n",
        "        # найти индекс класса в datay\n",
        "        idx = np.where(datay == cls_label)[0][0]\n",
        "        imgs_of_cls = datax[idx]  # shape: (num_examples_per_rotated_class, 28,28,3)\n",
        "\n",
        "        # Перемешаем и выберем первые n_support + n_query\n",
        "        perm = np.random.permutation(len(imgs_of_cls))\n",
        "        selected = imgs_of_cls[perm[: (n_support + n_query) ]]  # shape: (n_support + n_query, 28,28,3)\n",
        "        sample_images.append(selected)\n",
        "\n",
        "    # Превращаем в numpy\n",
        "    sample_images = np.array(sample_images)  # shape: (n_way, n_support + n_query, 28,28,3)\n",
        "    # преобразуем в torch.Tensor и поменяем порядок каналов: (n_way, n_support+n_query, 3, 28,28)\n",
        "    sample_images = torch.from_numpy(sample_images).float().permute(0, 1, 4, 2, 3)\n",
        "\n",
        "    return {\n",
        "        \"images\": sample_images.to(DEVICE),\n",
        "        \"n_way\": n_way,\n",
        "        \"n_support\": n_support,\n",
        "        \"n_query\": n_query\n",
        "    }"
      ]
    },
    {
      "cell_type": "code",
      "execution_count": 11,
      "metadata": {
        "id": "ia3JLpQRu4fh"
      },
      "outputs": [],
      "source": [
        "def display_sample(sample):\n",
        "    \"\"\"\n",
        "    Displays sample in a grid\n",
        "    Args:\n",
        "      sample (torch.Tensor): sample of images to display\n",
        "    \"\"\"\n",
        "    imgs = sample[\"images\"].cpu()  # (n_way, n_support+n_query, 3,28,28)\n",
        "    n_way   = sample[\"n_way\"]\n",
        "    n_total = sample[\"n_support\"] + sample[\"n_query\"]\n",
        "    # формируем 4D-тензор для make_grid: (n_way * n_total, 3, 28,28)\n",
        "    imgs_4d = imgs.view(n_way * n_total, 3, 28, 28)\n",
        "    grid = torchvision.utils.make_grid(imgs_4d, nrow=n_total, normalize=True, pad_value=1)\n",
        "    # из (3,H,W) → (H,W,3)\n",
        "    plt.figure(figsize=(12, 6))\n",
        "    plt.imshow(grid.permute(1, 2, 0).numpy())\n",
        "    plt.axis(\"off\")\n",
        "    plt.show()"
      ]
    },
    {
      "cell_type": "markdown",
      "metadata": {
        "id": "-uGq_ya4yG2K"
      },
      "source": [
        "В качестве примера возьмем образец и отобразим его\n",
        "\n",
        "*   n_way = 8\n",
        "*   n_support = 5\n",
        "*   n_query = 5"
      ]
    },
    {
      "cell_type": "code",
      "execution_count": 12,
      "metadata": {
        "colab": {
          "base_uri": "https://localhost:8080/",
          "height": 499
        },
        "id": "lxOHvWfO1ApZ",
        "outputId": "e140f4df-be1a-4283-e5d7-15356c4165cd"
      },
      "outputs": [
        {
          "data": {
            "image/png": "[encoded data removed]",
            "text/plain": [
              "<Figure size 1200x600 with 1 Axes>"
            ]
          },
          "metadata": {},
          "output_type": "display_data"
        }
      ],
      "source": [
        "sample_example = extract_sample(8, 5, 5, trainx, trainy)\n",
        "display_sample(sample_example)"
      ]
    },
    {
      "cell_type": "code",
      "execution_count": 13,
      "metadata": {
        "colab": {
          "base_uri": "https://localhost:8080/"
        },
        "id": "RhDNMyG8AjOB",
        "outputId": "c18d8384-f072-48ef-91fa-e986f2b4677c"
      },
      "outputs": [
        {
          "data": {
            "text/plain": [
              "torch.Size([8, 10, 3, 28, 28])"
            ]
          },
          "execution_count": 13,
          "metadata": {},
          "output_type": "execute_result"
        }
      ],
      "source": [
        "sample_example[\"images\"].shape"
      ]
    },
    {
      "cell_type": "markdown",
      "metadata": {
        "id": "HbakTT_nFubI"
      },
      "source": [
        "## Build model"
      ]
    },
    {
      "cell_type": "markdown",
      "metadata": {
        "id": "VuvH9joezgja"
      },
      "source": [
        "Модель берет на вход (28x28x3) и возвращает вектор-столбец длиной 64. Каждый модуль модели состоит из свертки 3 × 3 с 64 фильтрами, слоя пакетной нормализации, нелинейности ReLU и слоя максимального объединения 2 × 2 (см. описание задания).\n",
        "\n",
        "Применительно к изображениям Omniglot 28 × 28 эта архитектура приводит к 64-мерному выходному пространству."
      ]
    },
    {
      "cell_type": "markdown",
      "metadata": {
        "id": "CS9b5FtNo7X2"
      },
      "source": [
        "### Задание № 2 - реализуйте энкодер на основе сверточной нейроннй сети"
      ]
    },
    {
      "cell_type": "code",
      "execution_count": 14,
      "metadata": {
        "id": "h3xxqKJFqc4V"
      },
      "outputs": [],
      "source": [
        "def euclidean_dist(x: torch.Tensor, y: torch.Tensor) -> torch.Tensor:\n",
        "    \"\"\"\n",
        "    Вычисляет попарные (L2)^2 расстояния между всеми векторами из x и y.\n",
        "    x: (N, D), y: (M, D) → возвращает (N, M)\n",
        "    \"\"\"\n",
        "    n, d = x.shape\n",
        "    m, _ = y.shape\n",
        "    # расширим x до (N, M, D) и y до (N, M, D), после чего разность по последнему измерению\n",
        "    x_ext = x.unsqueeze(1).expand(n, m, d)\n",
        "    y_ext = y.unsqueeze(0).expand(n, m, d)\n",
        "    return torch.pow(x_ext - y_ext, 2).sum(dim=2)"
      ]
    },
    {
      "cell_type": "code",
      "execution_count": 15,
      "metadata": {
        "id": "xXSd_fKzqhLl"
      },
      "outputs": [],
      "source": [
        "class EncoderBlock(nn.Module):\n",
        "    \"\"\"\n",
        "    Базовый блок: Conv2d → BatchNorm → ReLU → MaxPool\n",
        "    \"\"\"\n",
        "    def __init__(self, in_channels: int, out_channels: int):\n",
        "        super().__init__()\n",
        "        self.encoder = nn.Sequential(\n",
        "            nn.Conv2d(in_channels, out_channels, kernel_size=3, padding=1),\n",
        "            nn.BatchNorm2d(out_channels),\n",
        "            nn.ReLU(inplace=True),\n",
        "            nn.MaxPool2d(kernel_size=2)\n",
        "        )\n",
        "\n",
        "    def forward(self, x: torch.Tensor) -> torch.Tensor:\n",
        "        return self.encoder(x)"
      ]
    },
    {
      "cell_type": "code",
      "execution_count": 16,
      "metadata": {
        "id": "bijKdzMno7X2"
      },
      "outputs": [],
      "source": [
        "class EncoderCNN(nn.Module):\n",
        "    \"\"\"\n",
        "    4-слойный сверточный энкодер (3 блока hid_dim → hid_dim, затем hid_dim → z_dim):\n",
        "    Вход: (3, 28, 28) → выход: (z_dim)\n",
        "    \"\"\"\n",
        "    def __init__(self, in_channels: int, hid_dim: int, z_dim: int):\n",
        "        super().__init__()\n",
        "        blocks = []\n",
        "        # 1-й блок: 3 → hid_dim\n",
        "        blocks.append(EncoderBlock(in_channels, hid_dim))\n",
        "        # 2-й и 3-й блок: hid_dim → hid_dim\n",
        "        for _ in range(2):\n",
        "            blocks.append(EncoderBlock(hid_dim, hid_dim))\n",
        "        # 4-й блок: hid_dim → z_dim\n",
        "        blocks.append(EncoderBlock(hid_dim, z_dim))\n",
        "\n",
        "        self._blocks = nn.ModuleList(blocks)\n",
        "        self.flatten = nn.Flatten()  # чтобы получить (batch_size, z_dim)\n",
        "\n",
        "    def forward(self, x: torch.Tensor) -> torch.Tensor:\n",
        "        # x: (batch, 3, 28, 28)\n",
        "        for block in self._blocks:\n",
        "            x = block(x)\n",
        "        # на выходе: (batch, z_dim, 1, 1) → flatten → (batch, z_dim)\n",
        "        out = self.flatten(x)\n",
        "        return out"
      ]
    },
    {
      "cell_type": "markdown",
      "metadata": {
        "id": "1WzFL663o7X3"
      },
      "source": [
        "### Задание № 3 - реализуйте Prototypical Networks (``` set_forward_loss ```)"
      ]
    },
    {
      "cell_type": "code",
      "execution_count": 17,
      "metadata": {
        "id": "FTjSYAz1WY5e"
      },
      "outputs": [],
      "source": [
        "class ProtoNet(nn.Module):\n",
        "    def __init__(self, encoder):\n",
        "        \"\"\"\n",
        "        Args:\n",
        "            encoder : CNN encoding the images in sample\n",
        "            n_way (int): number of classes in a classification task\n",
        "            n_support (int): number of labeled examples per class in the support set\n",
        "            n_query (int): number of labeled examples per class in the query set\n",
        "        \"\"\"\n",
        "        super().__init__()\n",
        "        self.encoder = encoder.to(DEVICE)\n",
        "\n",
        "    def parse_feature(self, X: torch.Tensor, n_support: int):\n",
        "        \"\"\"\n",
        "        Делит X по поддержке (support) и запросам (query).\n",
        "        X shape: (n_way, n_support+n_query, 3,28,28)\n",
        "        Возвращает: x_support, x_query (0-й размер: n_way × n_support и n_way × n_query)\n",
        "        \"\"\"\n",
        "        x_support = X[:, :n_support]\n",
        "        x_query   = X[:, n_support:]\n",
        "        return x_support, x_query\n",
        "\n",
        "    def set_forward(self, X: torch.Tensor, n_way: int, n_support: int, n_query: int) -> torch.Tensor:\n",
        "        \"\"\"\n",
        "        Получает X (n_way, n_support+n_query, 3,28,28), возвращает логиты scores (n_way*n_query, n_way).\n",
        "        \"\"\"\n",
        "        # разделим на support и query\n",
        "        x_sup, x_q = self.parse_feature(X, n_support)\n",
        "        # выровняем для подачи в encoder: (n_way*n_support, 3,28,28), (n_way*n_query,3,28,28)\n",
        "        x_sup = x_sup.contiguous().view(n_way * n_support, 3, 28, 28)\n",
        "        x_q   = x_q.contiguous().view(n_way * n_query,   3, 28, 28)\n",
        "\n",
        "        # объединяем для одинарного прохода через encoder\n",
        "        x_all = torch.cat([x_sup, x_q], dim=0).to(DEVICE)\n",
        "        f_all = self.encoder(x_all)  # (n_way*n_support + n_way*n_query, z_dim)\n",
        "\n",
        "        z_dim = f_all.size(-1)\n",
        "        # извлекаем прототипы: среднее по каждому классу support\n",
        "        f_sup = f_all[: n_way * n_support].view(n_way, n_support, z_dim)\n",
        "        f_proto = f_sup.mean(dim=1)  # (n_way, z_dim)\n",
        "\n",
        "        # извлекаем запросы\n",
        "        f_query = f_all[n_way * n_support :]  # (n_way*n_query, z_dim)\n",
        "\n",
        "        # вычисляем попарные расстояния (n_way*n_query, n_way)\n",
        "        dists = euclidean_dist(f_query, f_proto)  # (n_way*n_query, n_way)\n",
        "        scores = -dists  # чем меньше dist, тем выше score\n",
        "        return scores\n",
        "\n",
        "    def set_forward_loss(self, sample: dict):\n",
        "        \"\"\"\n",
        "        sample: {\n",
        "          \"images\": Tensor(n_way, n_support+n_query, 3,28,28),\n",
        "          \"n_way\": int, \"n_support\": int, \"n_query\": int\n",
        "        }\n",
        "        Возвращает (loss, metrics_dict) где metrics_dict = {\"loss\": float, \"acc\": float, \"y_hat\": Tensor}\n",
        "        \"\"\"\n",
        "        images   = sample[\"images\"]\n",
        "        n_way    = sample[\"n_way\"]\n",
        "        n_supp   = sample[\"n_support\"]\n",
        "        n_query  = sample[\"n_query\"]\n",
        "\n",
        "        # y_query shape: (n_way, n_query, 1), метка i-го класса\n",
        "        y_query = torch.arange(n_way).view(n_way, 1, 1).expand(n_way, n_query, 1).to(DEVICE)\n",
        "\n",
        "        scores = self.set_forward(images, n_way, n_supp, n_query)\n",
        "        # scores: (n_way*n_query, n_way) → log-softmax → (n_way, n_query, n_way)\n",
        "        logit = F.log_softmax(scores, dim=1).view(n_way, n_query, n_way)\n",
        "\n",
        "        # вычитаем «отрицание logit в нужной позиции» и усредняем → loss\n",
        "        loss_val = -logit.gather(2, y_query).squeeze().view(-1).mean()\n",
        "\n",
        "        # предсказания: y_hat shape (n_way, n_query)\n",
        "        _, y_hat = logit.max(dim=2)\n",
        "\n",
        "        # точность: сравниваем y_hat с y_query.squeeze()\n",
        "        acc_val = (y_hat == y_query.squeeze()).float().mean()\n",
        "\n",
        "        return loss_val, {\"loss\": loss_val.item(), \"acc\": acc_val.item(), \"y_hat\": y_hat}"
      ]
    },
    {
      "cell_type": "code",
      "execution_count": 18,
      "metadata": {
        "id": "DBzAfRyJB-3X"
      },
      "outputs": [],
      "source": [
        "def load_protonet_conv(**kwargs):\n",
        "    \"\"\"\n",
        "    Loads the prototypical network model\n",
        "    Arg:\n",
        "      x_dim (tuple): dimension of input image\n",
        "      hid_dim (int): dimension of hidden layers in conv blocks\n",
        "      z_dim (int): dimension of embedded image\n",
        "    Returns:\n",
        "      Model (Class ProtoNet)\n",
        "    \"\"\"\n",
        "    x_dim = kwargs[\"x_dim\"]\n",
        "    hid_dim = kwargs[\"hid_dim\"]\n",
        "    z_dim = kwargs[\"z_dim\"]\n",
        "\n",
        "    encoder = EncoderCNN(x_dim[0], hid_dim, z_dim).to(DEVICE)\n",
        "\n",
        "    return ProtoNet(encoder).to(DEVICE)"
      ]
    },
    {
      "cell_type": "markdown",
      "metadata": {
        "id": "0Fke38yY6pI9",
        "tags": []
      },
      "source": [
        "## Train"
      ]
    },
    {
      "cell_type": "markdown",
      "metadata": {
        "id": "K3vPrYsSo7X3"
      },
      "source": [
        "### Задание № 4 - добавьте логирование в процесс обучения (wandb/neptune/tensorboard)"
      ]
    },
    {
      "cell_type": "code",
      "execution_count": 19,
      "metadata": {
        "colab": {
          "base_uri": "https://localhost:8080/",
          "height": 138
        },
        "id": "DJQWIBBlO05g",
        "outputId": "23b82c30-5877-4bfc-e38c-b9d329ebb4f6"
      },
      "outputs": [
        {
          "name": "stderr",
          "output_type": "stream",
          "text": [
            "\u001b[34m\u001b[1mwandb\u001b[0m: Currently logged in as: \u001b[33md3c3453d\u001b[0m (\u001b[33md3c3453d-mipt\u001b[0m) to \u001b[32mhttps://api.wandb.ai\u001b[0m. Use \u001b[1m`wandb login --relogin`\u001b[0m to force relogin\n"
          ]
        },
        {
          "data": {
            "text/plain": [
              "True"
            ]
          },
          "execution_count": 19,
          "metadata": {},
          "output_type": "execute_result"
        }
      ],
      "source": [
        "wandb.login()"
      ]
    },
    {
      "cell_type": "code",
      "execution_count": 20,
      "metadata": {
        "id": "BnLOgECOKG_y"
      },
      "outputs": [],
      "source": [
        "def train(model, optimizer, train_x, train_y, n_way, n_support, n_query, max_epoch, epoch_size, log_wandb: bool = False):\n",
        "    \"\"\"\n",
        "    Trains the protonet\n",
        "    Args:\n",
        "      model\n",
        "      optimizer\n",
        "      train_x (np.array): images of training set\n",
        "      train_y(np.array): labels of training set\n",
        "      n_way (int): number of classes in a classification task\n",
        "      n_support (int): number of labeled examples per class in the support set\n",
        "      n_query (int): number of labeled examples per class in the query set\n",
        "      max_epoch (int): max epochs to train on\n",
        "      epoch_size (int): episodes per epoch\n",
        "    \"\"\"\n",
        "    if log_wandb:\n",
        "        wandb.init(project=\"hw4\", name=\"omniglot_protonet\")\n",
        "\n",
        "    scheduler = optim.lr_scheduler.StepLR(optimizer, step_size=1, gamma=0.5)\n",
        "\n",
        "    for epoch in range(1, max_epoch + 1):\n",
        "        running_loss = 0.0\n",
        "        running_acc  = 0.0\n",
        "\n",
        "        with tqdm(total=epoch_size, desc=f\"Epoch {epoch}/{max_epoch}\") as pbar:\n",
        "            for episode in range(epoch_size):\n",
        "                # формируем один эпизод\n",
        "                sample = extract_sample(n_way, n_support, n_query, train_x, train_y)\n",
        "                optimizer.zero_grad()\n",
        "\n",
        "                loss, metrics = model.set_forward_loss(sample)\n",
        "                loss.backward()\n",
        "                optimizer.step()\n",
        "\n",
        "                running_loss += metrics[\"loss\"]\n",
        "                running_acc  += metrics[\"acc\"]\n",
        "\n",
        "                pbar.set_postfix({\"loss\": f\"{metrics['loss']:.4f}\", \"acc\": f\"{metrics['acc']:.4f}\"})\n",
        "                pbar.update()\n",
        "\n",
        "        # по окончании эпохи: вычисляем средние\n",
        "        epoch_loss = running_loss / epoch_size\n",
        "        epoch_acc  = running_acc  / epoch_size\n",
        "        print(f\"→ Epoch {epoch} done. Avg Loss: {epoch_loss:.4f}, Avg Acc: {epoch_acc:.4f}\")\n",
        "\n",
        "        if log_wandb:\n",
        "            wandb.log({\"epoch_loss\": epoch_loss, \"epoch_acc\": epoch_acc,\n",
        "                       \"learning_rate\": scheduler.get_last_lr()[0]}, step=epoch)\n",
        "\n",
        "        scheduler.step()\n",
        "\n",
        "    # После всего обучения сохраняем модель\n",
        "    torch.save(model.state_dict(), \"model_omniglot.pt\")\n",
        "    print(\"Модель сохранена в model_omniglot.pt\")"
      ]
    },
    {
      "cell_type": "code",
      "execution_count": 21,
      "metadata": {
        "colab": {
          "base_uri": "https://localhost:8080/"
        },
        "id": "7uMy99qE-Ed6",
        "outputId": "464c5fd9-01d8-4d35-bdc0-0053e1c9df7e"
      },
      "outputs": [
        {
          "name": "stdout",
          "output_type": "stream",
          "text": [
            "Всего классов в train: 3856\n",
            "Всего классов в test: 2636\n"
          ]
        }
      ],
      "source": [
        "# Читаем данные\n",
        "train_folder = \"images_background\"\n",
        "test_folder = \"images_evaluation\"\n",
        "\n",
        "trainx, trainy = read_images(train_folder)\n",
        "testx,  testy  = read_images(test_folder)\n",
        "\n",
        "print(\"Всего классов в train:\", len(trainy))\n",
        "print(\"Всего классов в test:\",  len(testy))\n",
        "\n",
        "\n",
        "# Инициализируем модель, оптимизатор\n",
        "model = load_protonet_conv(x_dim=(3, 28, 28), hid_dim=64, z_dim=64)\n",
        "optimizer = optim.Adam(model.parameters(), lr=learning_rate)"
      ]
    },
    {
      "cell_type": "code",
      "execution_count": 22,
      "metadata": {
        "colab": {
          "base_uri": "https://localhost:8080/",
          "height": 403,
          "referenced_widgets": [
            "2aabe44ff56a414c81a041cbdae6e9e5",
            "4d700168bd1646439182c77b1d49c953",
            "052cdaefce1f4a99822a9f5f966a9c68",
            "85b2783545504c1da7b734f3ad5e0803",
            "b3cea3888dfc4655acd3da5c9686a755",
            "52d22ba010e6430584faf15ae28e05eb",
            "f83a7e28260d4947af7986b05af442d0",
            "068f819b30f94dc8a6f23718447b1166",
            "bf32b654f3d14696b6e74274f26ab90c",
            "052b468c51a04e1a816e22cafb89d130",
            "ee7532ace22944a6be0a54de849bd4b5",
            "382fc4e9cafb4d88954c9da205c564cd",
            "658869d311274e478b016eb11b153f67",
            "6769e3f5f63546419da9cd94608e5997",
            "6046d213ffb641b192f48546bf7f17c9",
            "5448e712a33e445aa2e0b1801ca7d47b",
            "ab1c987974dc41cbba44f988a56f54a0",
            "ed534950b5c448c2b2ad8b09aa0012b6",
            "d242f2e198504c028de43ce548faaec0",
            "964e4111c9874c3782724aa5aa81f0d0",
            "6707aa4598be471596ec95a7b841caa8",
            "b01768a5399b4e7b8bc0f9d600fc28c6",
            "bacdac67cda7483284e2d4109d59354f",
            "3eab948b53274a128ecad12057a1fe83",
            "e7d14e6ecc6542779f99d4e85de6d616",
            "38a803da86a14973a6cde059b7033db7",
            "9c0975a2e643492a80abb694a4b503cb",
            "0c700645b91b45e5ae376ddf87127d4f",
            "188098ca11c541ceaf0c3ffcce4672b5",
            "eddb95490d19457c989a2c039d229328",
            "479a50e30e24428a841c3f33efedaf54",
            "8e9b8e957cd149d6a35a4ec5cd8d4b1b",
            "bed2455384da4d659305411b3c7f04f2",
            "d0cdc77eaf4a45e1bca2af7adae29e89",
            "f4cff074531a48d0bdd4abe49008fdbb",
            "1d97eaad4910484bbaea955ed129893b",
            "f991e726658e4d6c9ef9a834397a96f4",
            "c02a001fab474b33ac37f07f0ca861cb",
            "b92d8173066d4cf38f71e96cc08027d5",
            "ee5697c6085347a98c508073b27e83cb",
            "5bf8993548ac4790b634bf49c962d4b9",
            "a18cc4d6fbec4a9eabd2fe16d0af5428",
            "30d1045791944191ad2c7a2175341873",
            "78f8fc4eb0ea4b99ab5f1b3c28af5e95",
            "0f966655557b4b379879f03b92ca8eea",
            "b5475194c1b54a2896f7df4b78725ca6",
            "2a8d9a6ae9bf4e1bb7214afcf1c1e545",
            "84b3a607706b4c82ad192f9076d9d72c",
            "161d6de52a0e4bcba2fbe34d786f2659",
            "8a859155709d413fb85f8aa112223209",
            "1812e6f712ed478293018a174d1be4d2",
            "55dd981244de452eac34b9800aba54e6",
            "e243ced61f474c3e9cf4ae99138a4f31",
            "f277cd9804c34aeeb3bde9560a89735e",
            "9fa3f0a3da85458f8768b7362fb08bdc"
          ]
        },
        "id": "BahPoeaao7X3",
        "outputId": "b9be439e-25a6-4733-9af5-25087f11cbcb"
      },
      "outputs": [
        {
          "data": {
            "text/html": [
              "Tracking run with wandb version 0.19.11"
            ],
            "text/plain": [
              "<IPython.core.display.HTML object>"
            ]
          },
          "metadata": {},
          "output_type": "display_data"
        },
        {
          "data": {
            "text/html": [
              "Run data is saved locally in <code>/home/user/projects/ml/ml_hw4/wandb/run-20250603_231558-2mkbhuld</code>"
            ],
            "text/plain": [
              "<IPython.core.display.HTML object>"
            ]
          },
          "metadata": {},
          "output_type": "display_data"
        },
        {
          "data": {
            "text/html": [
              "Syncing run <strong><a href='https://wandb.ai/d3c3453d-mipt/hw4/runs/2mkbhuld' target=\"_blank\">omniglot_protonet</a></strong> to <a href='https://wandb.ai/d3c3453d-mipt/hw4' target=\"_blank\">Weights & Biases</a> (<a href='https://wandb.me/developer-guide' target=\"_blank\">docs</a>)<br>"
            ],
            "text/plain": [
              "<IPython.core.display.HTML object>"
            ]
          },
          "metadata": {},
          "output_type": "display_data"
        },
        {
          "data": {
            "text/html": [
              " View project at <a href='https://wandb.ai/d3c3453d-mipt/hw4' target=\"_blank\">https://wandb.ai/d3c3453d-mipt/hw4</a>"
            ],
            "text/plain": [
              "<IPython.core.display.HTML object>"
            ]
          },
          "metadata": {},
          "output_type": "display_data"
        },
        {
          "data": {
            "text/html": [
              " View run at <a href='https://wandb.ai/d3c3453d-mipt/hw4/runs/2mkbhuld' target=\"_blank\">https://wandb.ai/d3c3453d-mipt/hw4/runs/2mkbhuld</a>"
            ],
            "text/plain": [
              "<IPython.core.display.HTML object>"
            ]
          },
          "metadata": {},
          "output_type": "display_data"
        },
        {
          "name": "stderr",
          "output_type": "stream",
          "text": [
            "Epoch 1/5: 100%|██████████| 2000/2000 [01:03<00:00, 31.45it/s, loss=0.0378, acc=0.9900] \n"
          ]
        },
        {
          "name": "stdout",
          "output_type": "stream",
          "text": [
            "→ Epoch 1 done. Avg Loss: 0.1163, Avg Acc: 0.9639\n"
          ]
        },
        {
          "name": "stderr",
          "output_type": "stream",
          "text": [
            "Epoch 2/5: 100%|██████████| 2000/2000 [01:00<00:00, 32.96it/s, loss=0.0238, acc=0.9933] \n"
          ]
        },
        {
          "name": "stdout",
          "output_type": "stream",
          "text": [
            "→ Epoch 2 done. Avg Loss: 0.0461, Avg Acc: 0.9835\n"
          ]
        },
        {
          "name": "stderr",
          "output_type": "stream",
          "text": [
            "Epoch 3/5: 100%|██████████| 2000/2000 [00:58<00:00, 34.30it/s, loss=0.0524, acc=0.9833] \n"
          ]
        },
        {
          "name": "stdout",
          "output_type": "stream",
          "text": [
            "→ Epoch 3 done. Avg Loss: 0.0338, Avg Acc: 0.9874\n"
          ]
        },
        {
          "name": "stderr",
          "output_type": "stream",
          "text": [
            "Epoch 4/5: 100%|██████████| 2000/2000 [01:01<00:00, 32.67it/s, loss=0.0673, acc=0.9733]\n"
          ]
        },
        {
          "name": "stdout",
          "output_type": "stream",
          "text": [
            "→ Epoch 4 done. Avg Loss: 0.0290, Avg Acc: 0.9890\n"
          ]
        },
        {
          "name": "stderr",
          "output_type": "stream",
          "text": [
            "Epoch 5/5: 100%|██████████| 2000/2000 [01:04<00:00, 31.09it/s, loss=0.0452, acc=0.9867]\n"
          ]
        },
        {
          "name": "stdout",
          "output_type": "stream",
          "text": [
            "→ Epoch 5 done. Avg Loss: 0.0258, Avg Acc: 0.9899\n",
            "Модель сохранена в model_omniglot.pt\n",
            "CPU times: user 12min 23s, sys: 11.3 s, total: 12min 34s\n",
            "Wall time: 5min 8s\n"
          ]
        }
      ],
      "source": [
        "%%time\n",
        "\n",
        "# Запускаем тренировочный цикл\n",
        "train(  model, optimizer,\n",
        "        trainx, trainy,\n",
        "        n_way, n_support, n_query,\n",
        "        max_epoch, epoch_size,\n",
        "        log_wandb=True)"
      ]
    },
    {
      "cell_type": "markdown",
      "metadata": {
        "id": "pJu50gOb8WxU"
      },
      "source": [
        "## Test"
      ]
    },
    {
      "cell_type": "code",
      "execution_count": 23,
      "metadata": {
        "id": "qCgoOcCaERHH"
      },
      "outputs": [],
      "source": [
        "def test(model, test_x, test_y, n_way, n_support, n_query, test_episode):\n",
        "    \"\"\"\n",
        "    Tests the protonet\n",
        "    Args:\n",
        "      model: trained model\n",
        "      test_x (np.array): images of testing set\n",
        "      test_y (np.array): labels of testing set\n",
        "      n_way (int): number of classes in a classification task\n",
        "      n_support (int): number of labeled examples per class in the support set\n",
        "      n_query (int): number of labeled examples per class in the query set\n",
        "      test_episode (int): number of episodes to test on\n",
        "    \"\"\"\n",
        "    model.eval()\n",
        "    running_loss = 0.0\n",
        "    running_acc  = 0.0\n",
        "\n",
        "    for ep in tnrange(test_episodes, desc=\"Test Episodes\"):\n",
        "        sample = extract_sample(n_way, n_support, n_query, test_x, test_y)\n",
        "        loss, metrics = model.set_forward_loss(sample)\n",
        "        running_loss += metrics[\"loss\"]\n",
        "        running_acc  += metrics[\"acc\"]\n",
        "\n",
        "    avg_loss = running_loss / test_episodes\n",
        "    avg_acc  = running_acc  / test_episodes\n",
        "\n",
        "    # Сохраняем результат в JSON\n",
        "    with open(\"acc_loss_test.json\", \"w\") as f:\n",
        "        json.dump({\"loss\": avg_loss, \"acc\": avg_acc}, f)\n",
        "\n",
        "    print(f\"Test Results → Loss: {avg_loss:.4f}, Accuracy: {avg_acc:.4f}\")"
      ]
    },
    {
      "cell_type": "code",
      "execution_count": 24,
      "metadata": {
        "colab": {
          "base_uri": "https://localhost:8080/"
        },
        "id": "yvyja6x3I6JB",
        "outputId": "ee8748b4-4462-407c-aeb7-78c784034b9b"
      },
      "outputs": [
        {
          "data": {
            "text/plain": [
              "ProtoNet(\n",
              "  (encoder): EncoderCNN(\n",
              "    (_blocks): ModuleList(\n",
              "      (0): EncoderBlock(\n",
              "        (encoder): Sequential(\n",
              "          (0): Conv2d(3, 64, kernel_size=(3, 3), stride=(1, 1), padding=(1, 1))\n",
              "          (1): BatchNorm2d(64, eps=1e-05, momentum=0.1, affine=True, track_running_stats=True)\n",
              "          (2): ReLU(inplace=True)\n",
              "          (3): MaxPool2d(kernel_size=2, stride=2, padding=0, dilation=1, ceil_mode=False)\n",
              "        )\n",
              "      )\n",
              "      (1): EncoderBlock(\n",
              "        (encoder): Sequential(\n",
              "          (0): Conv2d(64, 64, kernel_size=(3, 3), stride=(1, 1), padding=(1, 1))\n",
              "          (1): BatchNorm2d(64, eps=1e-05, momentum=0.1, affine=True, track_running_stats=True)\n",
              "          (2): ReLU(inplace=True)\n",
              "          (3): MaxPool2d(kernel_size=2, stride=2, padding=0, dilation=1, ceil_mode=False)\n",
              "        )\n",
              "      )\n",
              "      (2): EncoderBlock(\n",
              "        (encoder): Sequential(\n",
              "          (0): Conv2d(64, 64, kernel_size=(3, 3), stride=(1, 1), padding=(1, 1))\n",
              "          (1): BatchNorm2d(64, eps=1e-05, momentum=0.1, affine=True, track_running_stats=True)\n",
              "          (2): ReLU(inplace=True)\n",
              "          (3): MaxPool2d(kernel_size=2, stride=2, padding=0, dilation=1, ceil_mode=False)\n",
              "        )\n",
              "      )\n",
              "      (3): EncoderBlock(\n",
              "        (encoder): Sequential(\n",
              "          (0): Conv2d(64, 64, kernel_size=(3, 3), stride=(1, 1), padding=(1, 1))\n",
              "          (1): BatchNorm2d(64, eps=1e-05, momentum=0.1, affine=True, track_running_stats=True)\n",
              "          (2): ReLU(inplace=True)\n",
              "          (3): MaxPool2d(kernel_size=2, stride=2, padding=0, dilation=1, ceil_mode=False)\n",
              "        )\n",
              "      )\n",
              "    )\n",
              "    (flatten): Flatten(start_dim=1, end_dim=-1)\n",
              "  )\n",
              ")"
            ]
          },
          "execution_count": 24,
          "metadata": {},
          "output_type": "execute_result"
        }
      ],
      "source": [
        "# Загрузим сохранённую модель\n",
        "model = load_protonet_conv(x_dim=(3, 28, 28), hid_dim=64, z_dim=64)\n",
        "model.load_state_dict(torch.load(\"model_omniglot.pt\"))\n",
        "model.to(DEVICE)"
      ]
    },
    {
      "cell_type": "code",
      "execution_count": 25,
      "metadata": {
        "colab": {
          "base_uri": "https://localhost:8080/",
          "height": 66,
          "referenced_widgets": [
            "9507106ca10a44be857d9df23d44a96c",
            "75224b35014648e49bed02ceafebf944",
            "e68162a5dfca41df97763b5f2fa969ae",
            "f7727052e78a4ce0ab0c399e9d65334d",
            "20553af20fdc453191e83ac987082a8e",
            "c32d76baf6cb4c93acb1156c9fba6c37",
            "169508e4f8fd47f18bda1c93005c5344",
            "e4112ec1713b49b68dca346f6d12db53",
            "fa8f3e4e92d340dfaf070dda8edf436e",
            "270fb15876184d4c96289ba9e6e24a32",
            "56bb52b1cec644a3913651a76b5baf51"
          ]
        },
        "id": "fKG5eEuho7X3",
        "outputId": "dea3de9f-7cb8-458c-ff9b-408c571c70a2"
      },
      "outputs": [
        {
          "name": "stderr",
          "output_type": "stream",
          "text": [
            "/tmp/ipykernel_37849/2817831031.py:17: TqdmDeprecationWarning: Please use `tqdm.notebook.trange` instead of `tqdm.tnrange`\n",
            "  for ep in tnrange(test_episodes, desc=\"Test Episodes\"):\n"
          ]
        },
        {
          "data": {
            "application/vnd.jupyter.widget-view+json": {
              "model_id": "b18752562768465bbea5e5f114f73aa8",
              "version_major": 2,
              "version_minor": 0
            },
            "text/plain": [
              "Test Episodes:   0%|          | 0/1000 [00:00<?, ?it/s]"
            ]
          },
          "metadata": {},
          "output_type": "display_data"
        },
        {
          "name": "stdout",
          "output_type": "stream",
          "text": [
            "Test Results → Loss: 0.0250, Accuracy: 0.9954\n"
          ]
        }
      ],
      "source": [
        "test(model, testx, testy,\n",
        "              test_n_way, test_n_support, test_n_query,\n",
        "              test_episodes)"
      ]
    },
    {
      "cell_type": "markdown",
      "metadata": {
        "id": "nOH0sg_7EKUW"
      },
      "source": [
        "## Test on specific example"
      ]
    },
    {
      "cell_type": "code",
      "execution_count": 26,
      "metadata": {
        "colab": {
          "base_uri": "https://localhost:8080/",
          "height": 516
        },
        "id": "eO8PcZ_F0ZWc",
        "outputId": "105b6170-25af-4941-abba-3a6daaf6ead5"
      },
      "outputs": [
        {
          "data": {
            "image/png": "[encoded data removed]",
            "text/plain": [
              "<Figure size 1200x600 with 1 Axes>"
            ]
          },
          "metadata": {},
          "output_type": "display_data"
        },
        {
          "name": "stdout",
          "output_type": "stream",
          "text": [
            "Accuracy: 0.9866666793823242\n"
          ]
        }
      ],
      "source": [
        "my_sample = extract_sample(n_way, n_support, n_query, testx, testy)\n",
        "display_sample(my_sample)\n",
        "loss, output = model.set_forward_loss(my_sample)\n",
        "print(f\"Accuracy: {output['acc']}\")"
      ]
    },
    {
      "cell_type": "markdown",
      "metadata": {
        "id": "nUqbFp2Qo7X4"
      },
      "source": [
        "### Задание № 5 - добавьте функцию для визуализации предсказания с тестирования\n",
        "\n"
      ]
    },
    {
      "cell_type": "code",
      "execution_count": 27,
      "metadata": {
        "id": "JIR1_i62gOUB"
      },
      "outputs": [],
      "source": [
        "def predict_visual(sample: dict, model: ProtoNet):\n",
        "    \"\"\"\n",
        "    Для одного sample-а (n_way, n_support+n_query, 3,28,28) строим:\n",
        "      - прототипы (средняя точка каждого класса по support)\n",
        "      - признаки всех query\n",
        "    Затем рисуем t-SNE (2D), где каждый класс — свой цвет.\n",
        "    \"\"\"\n",
        "    model.eval()\n",
        "    images  = sample[\"images\"]   # (n_way, n_supp+n_query, 3,28,28)\n",
        "    n_way   = sample[\"n_way\"]\n",
        "    n_supp  = sample[\"n_support\"]\n",
        "    n_query = sample[\"n_query\"]\n",
        "\n",
        "    # разделяем support и query\n",
        "    x_sup = images[:, :n_supp].contiguous().view(n_way * n_supp, 3,28,28)\n",
        "    x_q   = images[:, n_supp:].contiguous().view(n_way * n_query, 3,28,28)\n",
        "\n",
        "    # объединяем для одного прохода\n",
        "    x_all = torch.cat([x_sup, x_q], dim=0).to(DEVICE)\n",
        "    f_all = model.encoder(x_all)  # (n_way*n_supp + n_way*n_query, z_dim)\n",
        "\n",
        "    z_dim = f_all.size(-1)\n",
        "    # вытаскиваем прототипы\n",
        "    f_sup = f_all[: n_way * n_supp].view(n_way, n_supp, z_dim)  # (n_way, n_supp, z_dim)\n",
        "    f_proto = f_sup.mean(dim=1).cpu().detach().numpy()          # (n_way, z_dim)\n",
        "\n",
        "    # вытаскиваем query\n",
        "    f_query = f_all[n_way * n_supp:]                             # (n_way*n_query, z_dim)\n",
        "    f_query = f_query.view(n_way, n_query, z_dim).cpu().detach().numpy()\n",
        "\n",
        "    # объединяем прототипы и query в один массив для t-SNE:\n",
        "    # сделаем так: для каждого класса i: сначала i-й прототип, затем его query\n",
        "    feats = []\n",
        "    for i in range(n_way):\n",
        "        feats.append(f_proto[i])                  # (z_dim,)\n",
        "        for j in range(n_query):\n",
        "            feats.append(f_query[i, j])           # (z_dim,)\n",
        "    feats = np.stack(feats, axis=0)               # shape: (n_way*(1+n_query), z_dim)\n",
        "\n",
        "    # запуск t-SNE\n",
        "    print(\"Запускаем t-SNE\")\n",
        "    tsne = TSNE(n_components=2, perplexity=5, random_state=SEED, n_jobs=4)\n",
        "    feats_2d = tsne.fit_transform(feats)           # (n_way*(1+n_query), 2)\n",
        "\n",
        "    # Визуализация\n",
        "    print(\"Строим scatter plot\")\n",
        "    plt.figure(figsize=(10, 8))\n",
        "    for cls_id in range(n_way):\n",
        "        # индексы: прототип на позиции cls_id*(1+n_query),\n",
        "        # далее его query: cls_id*(1+n_query)+1 ... cls_id*(1+n_query)+n_query\n",
        "        start = cls_id * (1 + n_query)\n",
        "        end   = start + 1 + n_query\n",
        "        plt.scatter(feats_2d[start:end, 0], feats_2d[start:end, 1], label=f\"Class {cls_id}\")\n",
        "\n",
        "    plt.legend(fontsize=8)\n",
        "    plt.title(\"t-SNE визуализация: первые точки — прототипы, остальные — query\")\n",
        "    plt.grid(True)\n",
        "    plt.show()"
      ]
    },
    {
      "cell_type": "code",
      "execution_count": 28,
      "metadata": {
        "colab": {
          "base_uri": "https://localhost:8080/",
          "height": 1000
        },
        "id": "GcSuq87Nv5R1",
        "outputId": "9daa8d21-374e-4b5e-de39-6df7a627747f"
      },
      "outputs": [
        {
          "data": {
            "image/png": "[encoded data removed]",
            "text/plain": [
              "<Figure size 1200x600 with 1 Axes>"
            ]
          },
          "metadata": {},
          "output_type": "display_data"
        },
        {
          "name": "stdout",
          "output_type": "stream",
          "text": [
            "Запускаем t-SNE\n",
            "Строим scatter plot\n"
          ]
        },
        {
          "data": {
            "image/png": "[encoded data removed]",
            "text/plain": [
              "<Figure size 1000x800 with 1 Axes>"
            ]
          },
          "metadata": {},
          "output_type": "display_data"
        }
      ],
      "source": [
        "sample_vis = extract_sample(test_n_way, test_n_support, test_n_query, testx, testy)\n",
        "display_sample(sample_vis)\n",
        "predict_visual(sample_vis, model)"
      ]
    },
    {
      "cell_type": "markdown",
      "metadata": {
        "id": "kozsjZAmo7X4"
      },
      "source": [
        "# Задание 6: Downstream task\n",
        "\n",
        "## Задание 6.1\n",
        "Ваша задача обучить заданную вами модель CNN методом SimCLR для набора данных CIFAR10, а затем использовать обученный энкодер для решения задачи классификации.\n",
        "\n",
        "**Примечание:**\n",
        "- В качестве базового энкодера можете использовать модель из семинара выше (```resnet18```) или определить свою сеть. **Рекомендуется** использовать уже предобученные сети из [torch zoo](https://pytorch.org/vision/stable/models.html).\n",
        "- В качестве обучающего множества для задачи классификации воспользуйетсь ```X_test```, ```y_test```, которые были определены в самом начале ноутбука. Создайте обучающую и валидационную выборку.\n",
        "- В новой CNN для задачи классификации требуется обучить только полносвязные слои после энкодера. Для этого вам потребуется \"заморозить\" веса энкодера и не учить их. Сделать это можно с помощью команды:\n",
        "```python\n",
        "for p in encoder.parameters():\n",
        "    p.requires_grad = False  \n",
        "```\n",
        "- Процесс обучения модели можно взять из предыдущего семинара\n"
      ]
    },
    {
      "cell_type": "code",
      "execution_count": null,
      "metadata": {
        "id": "TqGoK3mSyxxB"
      },
      "outputs": [],
      "source": [
        "from torchvision import models, datasets, transforms\n",
        "from torch.utils.data import DataLoader, random_split"
      ]
    },
    {
      "cell_type": "code",
      "execution_count": null,
      "metadata": {
        "id": "W7uHP2prys5F"
      },
      "outputs": [],
      "source": [
        "simclr_transform = transforms.Compose([\n",
        "    transforms.RandomResizedCrop(32),\n",
        "    transforms.RandomHorizontalFlip(),\n",
        "    transforms.RandomApply([\n",
        "        transforms.ColorJitter(0.4, 0.4, 0.4, 0.1)\n",
        "    ], p=0.8),\n",
        "    transforms.RandomGrayscale(p=0.2),\n",
        "    transforms.ToTensor(),\n",
        "    # Три канала -> поэтому три средних и три стандартных отклонения\n",
        "    transforms.Normalize((0.5, 0.5, 0.5),\n",
        "                         (0.5, 0.5, 0.5))\n",
        "])\n",
        "\n",
        "clf_transform = transforms.Compose([\n",
        "    transforms.ToTensor(),\n",
        "    transforms.Normalize((0.5, 0.5, 0.5),\n",
        "                         (0.5, 0.5, 0.5))\n",
        "])"
      ]
    },
    {
      "cell_type": "code",
      "execution_count": null,
      "metadata": {
        "id": "DcnBz1Bry_1B"
      },
      "outputs": [],
      "source": [
        "class ProjectionHead(nn.Module):\n",
        "    def __init__(self, in_dim, hid_dim=512, out_dim=128):\n",
        "        super().__init__()\n",
        "        self.proj = nn.Sequential(\n",
        "            nn.Linear(in_dim, hid_dim),\n",
        "            nn.ReLU(inplace=True),\n",
        "            nn.Linear(hid_dim, out_dim)\n",
        "        )\n",
        "\n",
        "    def forward(self, x):\n",
        "        # L2‐нормализация по последнему измерению\n",
        "        return F.normalize(self.proj(x), dim=1)\n",
        "\n",
        "\n",
        "class SimCLRModel(nn.Module):\n",
        "    \"\"\"\n",
        "    Простая SimCLR-модель на базе ResNet-18 (fc → Identity + ProjectionHead).\n",
        "    Предполагается, что изображения 32×32 (например, CIFAR-10).\n",
        "    \"\"\"\n",
        "    def __init__(self):\n",
        "        super().__init__()\n",
        "        # 1) Сырой энкодер: ResNet-18 без pretrained‐весов\n",
        "        self.encoder = models.resnet18(pretrained=False)\n",
        "        # 2) Убираем FC‐слой, оставляем последним выходом features (512)\n",
        "        self.encoder.fc = nn.Identity()\n",
        "        # 3) Добавляем «проеkционный хвостик»: 512→512→128\n",
        "        self.projector = ProjectionHead(in_dim=512)\n",
        "\n",
        "    def forward(self, x):\n",
        "        features = self.encoder(x)       # (batch_size, 512)\n",
        "        projections = self.projector(features)  # (batch_size, 128), L2‐нормализовано\n",
        "        return projections\n"
      ]
    },
    {
      "cell_type": "code",
      "execution_count": null,
      "metadata": {
        "id": "AnMw4FkyzBGx"
      },
      "outputs": [],
      "source": [
        "def train_classifier(model, loader, epochs=5, device=DEVICE):\n",
        "    \"\"\"\n",
        "    Универсальная функция для обучения (многоклассового) классификатора.\n",
        "    Ожидает, что модель на входе выдаёт logits размерности (batch_size, num_classes).\n",
        "    \"\"\"\n",
        "    model.to(device)\n",
        "    optimizer = torch.optim.Adam(model.parameters(), lr=1e-3)\n",
        "    criterion = nn.CrossEntropyLoss()\n",
        "\n",
        "    for epoch in range(1, epochs + 1):\n",
        "        model.train()\n",
        "        running_loss = 0.0\n",
        "        correct = 0\n",
        "        total = 0\n",
        "\n",
        "        for x, y in loader:\n",
        "            x = x.to(device)\n",
        "            y = y.to(device)\n",
        "\n",
        "            optimizer.zero_grad()\n",
        "            out = model(x)                    # logits (batch_size, num_classes)\n",
        "            loss = criterion(out, y)\n",
        "            loss.backward()\n",
        "            optimizer.step()\n",
        "\n",
        "            running_loss += loss.item() * x.size(0)\n",
        "            preds = out.argmax(dim=1)\n",
        "            correct += (preds == y).sum().item()\n",
        "            total += y.size(0)\n",
        "\n",
        "        epoch_loss = running_loss / total\n",
        "        epoch_acc  = correct / total\n",
        "        print(f\"Epoch {epoch}: Loss {epoch_loss:.4f}, Acc {epoch_acc:.4f}\")\n"
      ]
    },
    {
      "cell_type": "code",
      "execution_count": null,
      "metadata": {
        "id": "b5kGBppUzJ6N"
      },
      "outputs": [],
      "source": [
        "class DownstreamClassifier(nn.Module):\n",
        "    \"\"\"\n",
        "    Берёт «замороженный» encoder и добавляет один полносвязный слой (z_dim→num_classes).\n",
        "    В forward сначала вызывает encoder(x) внутри torch.no_grad().\n",
        "    \"\"\"\n",
        "    def __init__(self, encoder: nn.Module, z_dim: int = 512, num_classes: int = 10):\n",
        "        super().__init__()\n",
        "        self.encoder = encoder\n",
        "        self.fc = nn.Linear(z_dim, num_classes)\n",
        "\n",
        "    def forward(self, x):\n",
        "        # x: (batch, 3,32,32)\n",
        "        with torch.no_grad():\n",
        "            z = self.encoder(x.to(next(self.encoder.parameters()).device))  # (batch, z_dim)\n",
        "        out = self.fc(z)  # (batch, num_classes)\n",
        "        return out\n"
      ]
    },
    {
      "cell_type": "code",
      "execution_count": null,
      "metadata": {
        "colab": {
          "base_uri": "https://localhost:8080/"
        },
        "id": "CKwsD4WKzMsG",
        "outputId": "ec1d6848-1d7a-435d-cc16-f3ec3c7f07ee"
      },
      "outputs": [
        {
          "name": "stderr",
          "output_type": "stream",
          "text": [
            "100%|██████████| 170M/170M [00:13<00:00, 12.7MB/s]\n"
          ]
        },
        {
          "name": "stdout",
          "output_type": "stream",
          "text": [
            "Train samples: 40000, Val samples: 10000\n"
          ]
        }
      ],
      "source": [
        "# Дёргаем CIFAR-10 (train=True -> 50k изображений).\n",
        "# Применяем только clf_transform, т.к. здесь мы уже работаем «обычным» классификатором.\n",
        "full_train = datasets.CIFAR10(\n",
        "    root=\"./data\",\n",
        "    train=True,\n",
        "    download=True,\n",
        "    transform=clf_transform\n",
        ")\n",
        "\n",
        "# Разбиваем на 80% train / 20% val (стратифицировано):\n",
        "train_size = int(0.8 * len(full_train))\n",
        "val_size   = len(full_train) - train_size\n",
        "train_set, val_set = random_split(\n",
        "    full_train,\n",
        "    [train_size, val_size],\n",
        "    generator=torch.Generator().manual_seed(SEED)\n",
        ")\n",
        "\n",
        "batch_size = 128\n",
        "train_loader = DataLoader(\n",
        "    train_set,\n",
        "    batch_size=batch_size,\n",
        "    shuffle=True,\n",
        "    num_workers=2,\n",
        "    pin_memory=True\n",
        ")\n",
        "val_loader = DataLoader(\n",
        "    val_set,\n",
        "    batch_size=batch_size,\n",
        "    shuffle=False,\n",
        "    num_workers=2,\n",
        "    pin_memory=True\n",
        ")\n",
        "\n",
        "print(f\"Train samples: {len(train_set)}, Val samples: {len(val_set)}\")\n"
      ]
    },
    {
      "cell_type": "markdown",
      "metadata": {
        "id": "SXoW4uNfymXM"
      },
      "source": [
        "## Задание 6.2\n",
        "\n",
        "Сравните полученный результат обучения c и без использования метода SimCLR."
      ]
    },
    {
      "cell_type": "code",
      "execution_count": null,
      "metadata": {
        "colab": {
          "base_uri": "https://localhost:8080/",
          "height": 356
        },
        "id": "_XdgZV9HyqcZ",
        "outputId": "87e1fad9-95af-4407-eedb-43e19819702c"
      },
      "outputs": [
        {
          "ename": "FileNotFoundError",
          "evalue": "[Errno 2] No such file or directory: 'simclr_encoder.pt'",
          "output_type": "error",
          "traceback": [
            "\u001b[0;31m---------------------------------------------------------------------------\u001b[0m",
            "\u001b[0;31mFileNotFoundError\u001b[0m                         Traceback (most recent call last)",
            "\u001b[0;32m<ipython-input-64-7c51e68208c1>\u001b[0m in \u001b[0;36m<cell line: 0>\u001b[0;34m()\u001b[0m\n\u001b[1;32m      1\u001b[0m \u001b[0;31m# Предполагаем, что вы уже обучили SimCLR и сохранили его энкодер в 'simclr_encoder.pt'\u001b[0m\u001b[0;34m\u001b[0m\u001b[0;34m\u001b[0m\u001b[0m\n\u001b[1;32m      2\u001b[0m \u001b[0msimclr_model\u001b[0m \u001b[0;34m=\u001b[0m \u001b[0mSimCLRModel\u001b[0m\u001b[0;34m(\u001b[0m\u001b[0;34m)\u001b[0m\u001b[0;34m.\u001b[0m\u001b[0mto\u001b[0m\u001b[0;34m(\u001b[0m\u001b[0mDEVICE\u001b[0m\u001b[0;34m)\u001b[0m\u001b[0;34m\u001b[0m\u001b[0;34m\u001b[0m\u001b[0m\n\u001b[0;32m----> 3\u001b[0;31m \u001b[0msimclr_model\u001b[0m\u001b[0;34m.\u001b[0m\u001b[0mload_state_dict\u001b[0m\u001b[0;34m(\u001b[0m\u001b[0mtorch\u001b[0m\u001b[0;34m.\u001b[0m\u001b[0mload\u001b[0m\u001b[0;34m(\u001b[0m\u001b[0;34m'simclr_encoder.pt'\u001b[0m\u001b[0;34m,\u001b[0m \u001b[0mmap_location\u001b[0m\u001b[0;34m=\u001b[0m\u001b[0mDEVICE\u001b[0m\u001b[0;34m)\u001b[0m\u001b[0;34m)\u001b[0m\u001b[0;34m\u001b[0m\u001b[0;34m\u001b[0m\u001b[0m\n\u001b[0m\u001b[1;32m      4\u001b[0m \u001b[0msimclr_model\u001b[0m\u001b[0;34m.\u001b[0m\u001b[0meval\u001b[0m\u001b[0;34m(\u001b[0m\u001b[0;34m)\u001b[0m\u001b[0;34m\u001b[0m\u001b[0;34m\u001b[0m\u001b[0m\n\u001b[1;32m      5\u001b[0m \u001b[0;34m\u001b[0m\u001b[0m\n",
            "\u001b[0;32m/usr/local/lib/python3.11/dist-packages/torch/serialization.py\u001b[0m in \u001b[0;36mload\u001b[0;34m(f, map_location, pickle_module, weights_only, mmap, **pickle_load_args)\u001b[0m\n\u001b[1;32m   1423\u001b[0m         \u001b[0mpickle_load_args\u001b[0m\u001b[0;34m[\u001b[0m\u001b[0;34m\"encoding\"\u001b[0m\u001b[0;34m]\u001b[0m \u001b[0;34m=\u001b[0m \u001b[0;34m\"utf-8\"\u001b[0m\u001b[0;34m\u001b[0m\u001b[0;34m\u001b[0m\u001b[0m\n\u001b[1;32m   1424\u001b[0m \u001b[0;34m\u001b[0m\u001b[0m\n\u001b[0;32m-> 1425\u001b[0;31m     \u001b[0;32mwith\u001b[0m \u001b[0m_open_file_like\u001b[0m\u001b[0;34m(\u001b[0m\u001b[0mf\u001b[0m\u001b[0;34m,\u001b[0m \u001b[0;34m\"rb\"\u001b[0m\u001b[0;34m)\u001b[0m \u001b[0;32mas\u001b[0m \u001b[0mopened_file\u001b[0m\u001b[0;34m:\u001b[0m\u001b[0;34m\u001b[0m\u001b[0;34m\u001b[0m\u001b[0m\n\u001b[0m\u001b[1;32m   1426\u001b[0m         \u001b[0;32mif\u001b[0m \u001b[0m_is_zipfile\u001b[0m\u001b[0;34m(\u001b[0m\u001b[0mopened_file\u001b[0m\u001b[0;34m)\u001b[0m\u001b[0;34m:\u001b[0m\u001b[0;34m\u001b[0m\u001b[0;34m\u001b[0m\u001b[0m\n\u001b[1;32m   1427\u001b[0m             \u001b[0;31m# The zipfile reader is going to advance the current file position.\u001b[0m\u001b[0;34m\u001b[0m\u001b[0;34m\u001b[0m\u001b[0m\n",
            "\u001b[0;32m/usr/local/lib/python3.11/dist-packages/torch/serialization.py\u001b[0m in \u001b[0;36m_open_file_like\u001b[0;34m(name_or_buffer, mode)\u001b[0m\n\u001b[1;32m    749\u001b[0m \u001b[0;32mdef\u001b[0m \u001b[0m_open_file_like\u001b[0m\u001b[0;34m(\u001b[0m\u001b[0mname_or_buffer\u001b[0m\u001b[0;34m,\u001b[0m \u001b[0mmode\u001b[0m\u001b[0;34m)\u001b[0m\u001b[0;34m:\u001b[0m\u001b[0;34m\u001b[0m\u001b[0;34m\u001b[0m\u001b[0m\n\u001b[1;32m    750\u001b[0m     \u001b[0;32mif\u001b[0m \u001b[0m_is_path\u001b[0m\u001b[0;34m(\u001b[0m\u001b[0mname_or_buffer\u001b[0m\u001b[0;34m)\u001b[0m\u001b[0;34m:\u001b[0m\u001b[0;34m\u001b[0m\u001b[0;34m\u001b[0m\u001b[0m\n\u001b[0;32m--> 751\u001b[0;31m         \u001b[0;32mreturn\u001b[0m \u001b[0m_open_file\u001b[0m\u001b[0;34m(\u001b[0m\u001b[0mname_or_buffer\u001b[0m\u001b[0;34m,\u001b[0m \u001b[0mmode\u001b[0m\u001b[0;34m)\u001b[0m\u001b[0;34m\u001b[0m\u001b[0;34m\u001b[0m\u001b[0m\n\u001b[0m\u001b[1;32m    752\u001b[0m     \u001b[0;32melse\u001b[0m\u001b[0;34m:\u001b[0m\u001b[0;34m\u001b[0m\u001b[0;34m\u001b[0m\u001b[0m\n\u001b[1;32m    753\u001b[0m         \u001b[0;32mif\u001b[0m \u001b[0;34m\"w\"\u001b[0m \u001b[0;32min\u001b[0m \u001b[0mmode\u001b[0m\u001b[0;34m:\u001b[0m\u001b[0;34m\u001b[0m\u001b[0;34m\u001b[0m\u001b[0m\n",
            "\u001b[0;32m/usr/local/lib/python3.11/dist-packages/torch/serialization.py\u001b[0m in \u001b[0;36m__init__\u001b[0;34m(self, name, mode)\u001b[0m\n\u001b[1;32m    730\u001b[0m \u001b[0;32mclass\u001b[0m \u001b[0m_open_file\u001b[0m\u001b[0;34m(\u001b[0m\u001b[0m_opener\u001b[0m\u001b[0;34m)\u001b[0m\u001b[0;34m:\u001b[0m\u001b[0;34m\u001b[0m\u001b[0;34m\u001b[0m\u001b[0m\n\u001b[1;32m    731\u001b[0m     \u001b[0;32mdef\u001b[0m \u001b[0m__init__\u001b[0m\u001b[0;34m(\u001b[0m\u001b[0mself\u001b[0m\u001b[0;34m,\u001b[0m \u001b[0mname\u001b[0m\u001b[0;34m,\u001b[0m \u001b[0mmode\u001b[0m\u001b[0;34m)\u001b[0m\u001b[0;34m:\u001b[0m\u001b[0;34m\u001b[0m\u001b[0;34m\u001b[0m\u001b[0m\n\u001b[0;32m--> 732\u001b[0;31m         \u001b[0msuper\u001b[0m\u001b[0;34m(\u001b[0m\u001b[0;34m)\u001b[0m\u001b[0;34m.\u001b[0m\u001b[0m__init__\u001b[0m\u001b[0;34m(\u001b[0m\u001b[0mopen\u001b[0m\u001b[0;34m(\u001b[0m\u001b[0mname\u001b[0m\u001b[0;34m,\u001b[0m \u001b[0mmode\u001b[0m\u001b[0;34m)\u001b[0m\u001b[0;34m)\u001b[0m\u001b[0;34m\u001b[0m\u001b[0;34m\u001b[0m\u001b[0m\n\u001b[0m\u001b[1;32m    733\u001b[0m \u001b[0;34m\u001b[0m\u001b[0m\n\u001b[1;32m    734\u001b[0m     \u001b[0;32mdef\u001b[0m \u001b[0m__exit__\u001b[0m\u001b[0;34m(\u001b[0m\u001b[0mself\u001b[0m\u001b[0;34m,\u001b[0m \u001b[0;34m*\u001b[0m\u001b[0margs\u001b[0m\u001b[0;34m)\u001b[0m\u001b[0;34m:\u001b[0m\u001b[0;34m\u001b[0m\u001b[0;34m\u001b[0m\u001b[0m\n",
            "\u001b[0;31mFileNotFoundError\u001b[0m: [Errno 2] No such file or directory: 'simclr_encoder.pt'"
          ]
        }
      ],
      "source": [
        "# Предполагаем, что обучили SimCLR и сохранили его энкодер в \"simclr_encoder.pt\"\n",
        "simclr_model = SimCLRModel().to(DEVICE)\n",
        "simclr_model.load_state_dict(torch.load(\"simclr_encoder.pt\", map_location=DEVICE))\n",
        "simclr_model.eval()\n",
        "\n",
        "# «Замораживаем» энкодер:\n",
        "frozen_encoder = simclr_model.encoder\n",
        "for p in frozen_encoder.parameters():\n",
        "    p.requires_grad = False\n",
        "\n",
        "# Создаём downstream‐классификатор поверх этого encoder-а:\n",
        "clf_simclr = DownstreamClassifier(\n",
        "    encoder = frozen_encoder,\n",
        "    z_dim    = 512,\n",
        "    num_classes = 10\n",
        ").to(DEVICE)\n",
        "\n",
        "print(\"Training downstream classifier using frozen SimCLR encoder…\")\n",
        "train_classifier(clf_simclr, train_loader, epochs=5, device=DEVICE)\n",
        "\n",
        "# (Опционально) после обучения можно вычислить метрики на val_loader"
      ]
    },
    {
      "cell_type": "code",
      "execution_count": null,
      "metadata": {
        "colab": {
          "base_uri": "https://localhost:8080/"
        },
        "id": "ZSvVyp8J0DN3",
        "outputId": "7f690ef4-d9a5-4cc3-b413-cfa12217d342"
      },
      "outputs": [
        {
          "name": "stdout",
          "output_type": "stream",
          "text": [
            "Training downstream classifier using a random (non‐pretrained) ResNet-18 encoder…\n",
            "Epoch 1: Loss 2.0673, Acc 0.2540\n",
            "Epoch 2: Loss 1.9240, Acc 0.3103\n",
            "Epoch 3: Loss 1.8930, Acc 0.3226\n",
            "Epoch 4: Loss 1.8830, Acc 0.3259\n",
            "Epoch 5: Loss 1.8763, Acc 0.3288\n"
          ]
        }
      ],
      "source": [
        "# Берём свежий ResNet-18 (без pretrained=False) и убираем fc\n",
        "random_encoder = models.resnet18(pretrained=False)\n",
        "random_encoder.fc = nn.Identity()\n",
        "\n",
        "# Создаём downstream‐классификатор поверх «рандомного» encoder-а:\n",
        "clf_random = DownstreamClassifier(\n",
        "    encoder = random_encoder,\n",
        "    z_dim    = 512,\n",
        "    num_classes = 10\n",
        ").to(DEVICE)\n",
        "\n",
        "print(\"Training downstream classifier using a random (non‐pretrained) ResNet-18 encoder…\")\n",
        "train_classifier(clf_random, train_loader, epochs=5, device=DEVICE)"
      ]
    },
    {
      "cell_type": "code",
      "execution_count": null,
      "metadata": {
        "id": "ckGy2f081S1x"
      },
      "outputs": [],
      "source": []
    }
  ],
  "metadata": {
    "accelerator": "GPU",
    "colab": {
      "provenance": []
    },
    "kernelspec": {
      "display_name": "ml-hw4-U7PwQk34-py3.10",
      "language": "python",
      "name": "python3"
    },
    "language_info": {
      "codemirror_mode": {
        "name": "ipython",
        "version": 3
      },
      "file_extension": ".py",
      "mimetype": "text/x-python",
      "name": "python",
      "nbconvert_exporter": "python",
      "pygments_lexer": "ipython3",
      "version": "3.10.17"
    },
    "widgets": {
      "application/vnd.jupyter.widget-state+json": {
        "052b468c51a04e1a816e22cafb89d130": {
          "model_module": "@jupyter-widgets/base",
          "model_module_version": "1.2.0",
          "model_name": "LayoutModel",
          "state": {
            "_model_module": "@jupyter-widgets/base",
            "_model_module_version": "1.2.0",
            "_model_name": "LayoutModel",
            "_view_count": null,
            "_view_module": "@jupyter-widgets/base",
            "_view_module_version": "1.2.0",
            "_view_name": "LayoutView",
            "align_content": null,
            "align_items": null,
            "align_self": null,
            "border": null,
            "bottom": null,
            "display": null,
            "flex": null,
            "flex_flow": null,
            "grid_area": null,
            "grid_auto_columns": null,
            "grid_auto_flow": null,
            "grid_auto_rows": null,
            "grid_column": null,
            "grid_gap": null,
            "grid_row": null,
            "grid_template_areas": null,
            "grid_template_columns": null,
            "grid_template_rows": null,
            "height": null,
            "justify_content": null,
            "justify_items": null,
            "left": null,
            "margin": null,
            "max_height": null,
            "max_width": null,
            "min_height": null,
            "min_width": null,
            "object_fit": null,
            "object_position": null,
            "order": null,
            "overflow": null,
            "overflow_x": null,
            "overflow_y": null,
            "padding": null,
            "right": null,
            "top": null,
            "visibility": null,
            "width": null
          }
        },
        "052cdaefce1f4a99822a9f5f966a9c68": {
          "model_module": "@jupyter-widgets/controls",
          "model_module_version": "1.5.0",
          "model_name": "FloatProgressModel",
          "state": {
            "_dom_classes": [],
            "_model_module": "@jupyter-widgets/controls",
            "_model_module_version": "1.5.0",
            "_model_name": "FloatProgressModel",
            "_view_count": null,
            "_view_module": "@jupyter-widgets/controls",
            "_view_module_version": "1.5.0",
            "_view_name": "ProgressView",
            "bar_style": "success",
            "description": "",
            "description_tooltip": null,
            "layout": "IPY_MODEL_068f819b30f94dc8a6f23718447b1166",
            "max": 2000,
            "min": 0,
            "orientation": "horizontal",
            "style": "IPY_MODEL_bf32b654f3d14696b6e74274f26ab90c",
            "value": 2000
          }
        },
        "068f819b30f94dc8a6f23718447b1166": {
          "model_module": "@jupyter-widgets/base",
          "model_module_version": "1.2.0",
          "model_name": "LayoutModel",
          "state": {
            "_model_module": "@jupyter-widgets/base",
            "_model_module_version": "1.2.0",
            "_model_name": "LayoutModel",
            "_view_count": null,
            "_view_module": "@jupyter-widgets/base",
            "_view_module_version": "1.2.0",
            "_view_name": "LayoutView",
            "align_content": null,
            "align_items": null,
            "align_self": null,
            "border": null,
            "bottom": null,
            "display": null,
            "flex": null,
            "flex_flow": null,
            "grid_area": null,
            "grid_auto_columns": null,
            "grid_auto_flow": null,
            "grid_auto_rows": null,
            "grid_column": null,
            "grid_gap": null,
            "grid_row": null,
            "grid_template_areas": null,
            "grid_template_columns": null,
            "grid_template_rows": null,
            "height": null,
            "justify_content": null,
            "justify_items": null,
            "left": null,
            "margin": null,
            "max_height": null,
            "max_width": null,
            "min_height": null,
            "min_width": null,
            "object_fit": null,
            "object_position": null,
            "order": null,
            "overflow": null,
            "overflow_x": null,
            "overflow_y": null,
            "padding": null,
            "right": null,
            "top": null,
            "visibility": null,
            "width": null
          }
        },
        "0c700645b91b45e5ae376ddf87127d4f": {
          "model_module": "@jupyter-widgets/base",
          "model_module_version": "1.2.0",
          "model_name": "LayoutModel",
          "state": {
            "_model_module": "@jupyter-widgets/base",
            "_model_module_version": "1.2.0",
            "_model_name": "LayoutModel",
            "_view_count": null,
            "_view_module": "@jupyter-widgets/base",
            "_view_module_version": "1.2.0",
            "_view_name": "LayoutView",
            "align_content": null,
            "align_items": null,
            "align_self": null,
            "border": null,
            "bottom": null,
            "display": null,
            "flex": null,
            "flex_flow": null,
            "grid_area": null,
            "grid_auto_columns": null,
            "grid_auto_flow": null,
            "grid_auto_rows": null,
            "grid_column": null,
            "grid_gap": null,
            "grid_row": null,
            "grid_template_areas": null,
            "grid_template_columns": null,
            "grid_template_rows": null,
            "height": null,
            "justify_content": null,
            "justify_items": null,
            "left": null,
            "margin": null,
            "max_height": null,
            "max_width": null,
            "min_height": null,
            "min_width": null,
            "object_fit": null,
            "object_position": null,
            "order": null,
            "overflow": null,
            "overflow_x": null,
            "overflow_y": null,
            "padding": null,
            "right": null,
            "top": null,
            "visibility": null,
            "width": null
          }
        },
        "0f966655557b4b379879f03b92ca8eea": {
          "model_module": "@jupyter-widgets/controls",
          "model_module_version": "1.5.0",
          "model_name": "HBoxModel",
          "state": {
            "_dom_classes": [],
            "_model_module": "@jupyter-widgets/controls",
            "_model_module_version": "1.5.0",
            "_model_name": "HBoxModel",
            "_view_count": null,
            "_view_module": "@jupyter-widgets/controls",
            "_view_module_version": "1.5.0",
            "_view_name": "HBoxView",
            "box_style": "",
            "children": [
              "IPY_MODEL_b5475194c1b54a2896f7df4b78725ca6",
              "IPY_MODEL_2a8d9a6ae9bf4e1bb7214afcf1c1e545",
              "IPY_MODEL_84b3a607706b4c82ad192f9076d9d72c"
            ],
            "layout": "IPY_MODEL_161d6de52a0e4bcba2fbe34d786f2659"
          }
        },
        "161d6de52a0e4bcba2fbe34d786f2659": {
          "model_module": "@jupyter-widgets/base",
          "model_module_version": "1.2.0",
          "model_name": "LayoutModel",
          "state": {
            "_model_module": "@jupyter-widgets/base",
            "_model_module_version": "1.2.0",
            "_model_name": "LayoutModel",
            "_view_count": null,
            "_view_module": "@jupyter-widgets/base",
            "_view_module_version": "1.2.0",
            "_view_name": "LayoutView",
            "align_content": null,
            "align_items": null,
            "align_self": null,
            "border": null,
            "bottom": null,
            "display": null,
            "flex": null,
            "flex_flow": null,
            "grid_area": null,
            "grid_auto_columns": null,
            "grid_auto_flow": null,
            "grid_auto_rows": null,
            "grid_column": null,
            "grid_gap": null,
            "grid_row": null,
            "grid_template_areas": null,
            "grid_template_columns": null,
            "grid_template_rows": null,
            "height": null,
            "justify_content": null,
            "justify_items": null,
            "left": null,
            "margin": null,
            "max_height": null,
            "max_width": null,
            "min_height": null,
            "min_width": null,
            "object_fit": null,
            "object_position": null,
            "order": null,
            "overflow": null,
            "overflow_x": null,
            "overflow_y": null,
            "padding": null,
            "right": null,
            "top": null,
            "visibility": null,
            "width": null
          }
        },
        "169508e4f8fd47f18bda1c93005c5344": {
          "model_module": "@jupyter-widgets/controls",
          "model_module_version": "1.5.0",
          "model_name": "DescriptionStyleModel",
          "state": {
            "_model_module": "@jupyter-widgets/controls",
            "_model_module_version": "1.5.0",
            "_model_name": "DescriptionStyleModel",
            "_view_count": null,
            "_view_module": "@jupyter-widgets/base",
            "_view_module_version": "1.2.0",
            "_view_name": "StyleView",
            "description_width": ""
          }
        },
        "1812e6f712ed478293018a174d1be4d2": {
          "model_module": "@jupyter-widgets/controls",
          "model_module_version": "1.5.0",
          "model_name": "DescriptionStyleModel",
          "state": {
            "_model_module": "@jupyter-widgets/controls",
            "_model_module_version": "1.5.0",
            "_model_name": "DescriptionStyleModel",
            "_view_count": null,
            "_view_module": "@jupyter-widgets/base",
            "_view_module_version": "1.2.0",
            "_view_name": "StyleView",
            "description_width": ""
          }
        },
        "188098ca11c541ceaf0c3ffcce4672b5": {
          "model_module": "@jupyter-widgets/controls",
          "model_module_version": "1.5.0",
          "model_name": "DescriptionStyleModel",
          "state": {
            "_model_module": "@jupyter-widgets/controls",
            "_model_module_version": "1.5.0",
            "_model_name": "DescriptionStyleModel",
            "_view_count": null,
            "_view_module": "@jupyter-widgets/base",
            "_view_module_version": "1.2.0",
            "_view_name": "StyleView",
            "description_width": ""
          }
        },
        "1d97eaad4910484bbaea955ed129893b": {
          "model_module": "@jupyter-widgets/controls",
          "model_module_version": "1.5.0",
          "model_name": "FloatProgressModel",
          "state": {
            "_dom_classes": [],
            "_model_module": "@jupyter-widgets/controls",
            "_model_module_version": "1.5.0",
            "_model_name": "FloatProgressModel",
            "_view_count": null,
            "_view_module": "@jupyter-widgets/controls",
            "_view_module_version": "1.5.0",
            "_view_name": "ProgressView",
            "bar_style": "success",
            "description": "",
            "description_tooltip": null,
            "layout": "IPY_MODEL_5bf8993548ac4790b634bf49c962d4b9",
            "max": 2000,
            "min": 0,
            "orientation": "horizontal",
            "style": "IPY_MODEL_a18cc4d6fbec4a9eabd2fe16d0af5428",
            "value": 2000
          }
        },
        "20553af20fdc453191e83ac987082a8e": {
          "model_module": "@jupyter-widgets/base",
          "model_module_version": "1.2.0",
          "model_name": "LayoutModel",
          "state": {
            "_model_module": "@jupyter-widgets/base",
            "_model_module_version": "1.2.0",
            "_model_name": "LayoutModel",
            "_view_count": null,
            "_view_module": "@jupyter-widgets/base",
            "_view_module_version": "1.2.0",
            "_view_name": "LayoutView",
            "align_content": null,
            "align_items": null,
            "align_self": null,
            "border": null,
            "bottom": null,
            "display": null,
            "flex": null,
            "flex_flow": null,
            "grid_area": null,
            "grid_auto_columns": null,
            "grid_auto_flow": null,
            "grid_auto_rows": null,
            "grid_column": null,
            "grid_gap": null,
            "grid_row": null,
            "grid_template_areas": null,
            "grid_template_columns": null,
            "grid_template_rows": null,
            "height": null,
            "justify_content": null,
            "justify_items": null,
            "left": null,
            "margin": null,
            "max_height": null,
            "max_width": null,
            "min_height": null,
            "min_width": null,
            "object_fit": null,
            "object_position": null,
            "order": null,
            "overflow": null,
            "overflow_x": null,
            "overflow_y": null,
            "padding": null,
            "right": null,
            "top": null,
            "visibility": null,
            "width": null
          }
        },
        "270fb15876184d4c96289ba9e6e24a32": {
          "model_module": "@jupyter-widgets/base",
          "model_module_version": "1.2.0",
          "model_name": "LayoutModel",
          "state": {
            "_model_module": "@jupyter-widgets/base",
            "_model_module_version": "1.2.0",
            "_model_name": "LayoutModel",
            "_view_count": null,
            "_view_module": "@jupyter-widgets/base",
            "_view_module_version": "1.2.0",
            "_view_name": "LayoutView",
            "align_content": null,
            "align_items": null,
            "align_self": null,
            "border": null,
            "bottom": null,
            "display": null,
            "flex": null,
            "flex_flow": null,
            "grid_area": null,
            "grid_auto_columns": null,
            "grid_auto_flow": null,
            "grid_auto_rows": null,
            "grid_column": null,
            "grid_gap": null,
            "grid_row": null,
            "grid_template_areas": null,
            "grid_template_columns": null,
            "grid_template_rows": null,
            "height": null,
            "justify_content": null,
            "justify_items": null,
            "left": null,
            "margin": null,
            "max_height": null,
            "max_width": null,
            "min_height": null,
            "min_width": null,
            "object_fit": null,
            "object_position": null,
            "order": null,
            "overflow": null,
            "overflow_x": null,
            "overflow_y": null,
            "padding": null,
            "right": null,
            "top": null,
            "visibility": null,
            "width": null
          }
        },
        "2a8d9a6ae9bf4e1bb7214afcf1c1e545": {
          "model_module": "@jupyter-widgets/controls",
          "model_module_version": "1.5.0",
          "model_name": "FloatProgressModel",
          "state": {
            "_dom_classes": [],
            "_model_module": "@jupyter-widgets/controls",
            "_model_module_version": "1.5.0",
            "_model_name": "FloatProgressModel",
            "_view_count": null,
            "_view_module": "@jupyter-widgets/controls",
            "_view_module_version": "1.5.0",
            "_view_name": "ProgressView",
            "bar_style": "success",
            "description": "",
            "description_tooltip": null,
            "layout": "IPY_MODEL_55dd981244de452eac34b9800aba54e6",
            "max": 2000,
            "min": 0,
            "orientation": "horizontal",
            "style": "IPY_MODEL_e243ced61f474c3e9cf4ae99138a4f31",
            "value": 2000
          }
        },
        "2aabe44ff56a414c81a041cbdae6e9e5": {
          "model_module": "@jupyter-widgets/controls",
          "model_module_version": "1.5.0",
          "model_name": "HBoxModel",
          "state": {
            "_dom_classes": [],
            "_model_module": "@jupyter-widgets/controls",
            "_model_module_version": "1.5.0",
            "_model_name": "HBoxModel",
            "_view_count": null,
            "_view_module": "@jupyter-widgets/controls",
            "_view_module_version": "1.5.0",
            "_view_name": "HBoxView",
            "box_style": "",
            "children": [
              "IPY_MODEL_4d700168bd1646439182c77b1d49c953",
              "IPY_MODEL_052cdaefce1f4a99822a9f5f966a9c68",
              "IPY_MODEL_85b2783545504c1da7b734f3ad5e0803"
            ],
            "layout": "IPY_MODEL_b3cea3888dfc4655acd3da5c9686a755"
          }
        },
        "30d1045791944191ad2c7a2175341873": {
          "model_module": "@jupyter-widgets/base",
          "model_module_version": "1.2.0",
          "model_name": "LayoutModel",
          "state": {
            "_model_module": "@jupyter-widgets/base",
            "_model_module_version": "1.2.0",
            "_model_name": "LayoutModel",
            "_view_count": null,
            "_view_module": "@jupyter-widgets/base",
            "_view_module_version": "1.2.0",
            "_view_name": "LayoutView",
            "align_content": null,
            "align_items": null,
            "align_self": null,
            "border": null,
            "bottom": null,
            "display": null,
            "flex": null,
            "flex_flow": null,
            "grid_area": null,
            "grid_auto_columns": null,
            "grid_auto_flow": null,
            "grid_auto_rows": null,
            "grid_column": null,
            "grid_gap": null,
            "grid_row": null,
            "grid_template_areas": null,
            "grid_template_columns": null,
            "grid_template_rows": null,
            "height": null,
            "justify_content": null,
            "justify_items": null,
            "left": null,
            "margin": null,
            "max_height": null,
            "max_width": null,
            "min_height": null,
            "min_width": null,
            "object_fit": null,
            "object_position": null,
            "order": null,
            "overflow": null,
            "overflow_x": null,
            "overflow_y": null,
            "padding": null,
            "right": null,
            "top": null,
            "visibility": null,
            "width": null
          }
        },
        "382fc4e9cafb4d88954c9da205c564cd": {
          "model_module": "@jupyter-widgets/controls",
          "model_module_version": "1.5.0",
          "model_name": "HBoxModel",
          "state": {
            "_dom_classes": [],
            "_model_module": "@jupyter-widgets/controls",
            "_model_module_version": "1.5.0",
            "_model_name": "HBoxModel",
            "_view_count": null,
            "_view_module": "@jupyter-widgets/controls",
            "_view_module_version": "1.5.0",
            "_view_name": "HBoxView",
            "box_style": "",
            "children": [
              "IPY_MODEL_658869d311274e478b016eb11b153f67",
              "IPY_MODEL_6769e3f5f63546419da9cd94608e5997",
              "IPY_MODEL_6046d213ffb641b192f48546bf7f17c9"
            ],
            "layout": "IPY_MODEL_5448e712a33e445aa2e0b1801ca7d47b"
          }
        },
        "38a803da86a14973a6cde059b7033db7": {
          "model_module": "@jupyter-widgets/controls",
          "model_module_version": "1.5.0",
          "model_name": "HTMLModel",
          "state": {
            "_dom_classes": [],
            "_model_module": "@jupyter-widgets/controls",
            "_model_module_version": "1.5.0",
            "_model_name": "HTMLModel",
            "_view_count": null,
            "_view_module": "@jupyter-widgets/controls",
            "_view_module_version": "1.5.0",
            "_view_name": "HTMLView",
            "description": "",
            "description_tooltip": null,
            "layout": "IPY_MODEL_8e9b8e957cd149d6a35a4ec5cd8d4b1b",
            "placeholder": "​",
            "style": "IPY_MODEL_bed2455384da4d659305411b3c7f04f2",
            "value": " 2000/2000 [01:02&lt;00:00, 25.76it/s, loss=0.0556, acc=0.9767]"
          }
        },
        "3eab948b53274a128ecad12057a1fe83": {
          "model_module": "@jupyter-widgets/controls",
          "model_module_version": "1.5.0",
          "model_name": "HTMLModel",
          "state": {
            "_dom_classes": [],
            "_model_module": "@jupyter-widgets/controls",
            "_model_module_version": "1.5.0",
            "_model_name": "HTMLModel",
            "_view_count": null,
            "_view_module": "@jupyter-widgets/controls",
            "_view_module_version": "1.5.0",
            "_view_name": "HTMLView",
            "description": "",
            "description_tooltip": null,
            "layout": "IPY_MODEL_0c700645b91b45e5ae376ddf87127d4f",
            "placeholder": "​",
            "style": "IPY_MODEL_188098ca11c541ceaf0c3ffcce4672b5",
            "value": "Epoch 3/5: 100%"
          }
        },
        "479a50e30e24428a841c3f33efedaf54": {
          "model_module": "@jupyter-widgets/controls",
          "model_module_version": "1.5.0",
          "model_name": "ProgressStyleModel",
          "state": {
            "_model_module": "@jupyter-widgets/controls",
            "_model_module_version": "1.5.0",
            "_model_name": "ProgressStyleModel",
            "_view_count": null,
            "_view_module": "@jupyter-widgets/base",
            "_view_module_version": "1.2.0",
            "_view_name": "StyleView",
            "bar_color": null,
            "description_width": ""
          }
        },
        "4d700168bd1646439182c77b1d49c953": {
          "model_module": "@jupyter-widgets/controls",
          "model_module_version": "1.5.0",
          "model_name": "HTMLModel",
          "state": {
            "_dom_classes": [],
            "_model_module": "@jupyter-widgets/controls",
            "_model_module_version": "1.5.0",
            "_model_name": "HTMLModel",
            "_view_count": null,
            "_view_module": "@jupyter-widgets/controls",
            "_view_module_version": "1.5.0",
            "_view_name": "HTMLView",
            "description": "",
            "description_tooltip": null,
            "layout": "IPY_MODEL_52d22ba010e6430584faf15ae28e05eb",
            "placeholder": "​",
            "style": "IPY_MODEL_f83a7e28260d4947af7986b05af442d0",
            "value": "Epoch 1/5: 100%"
          }
        },
        "52d22ba010e6430584faf15ae28e05eb": {
          "model_module": "@jupyter-widgets/base",
          "model_module_version": "1.2.0",
          "model_name": "LayoutModel",
          "state": {
            "_model_module": "@jupyter-widgets/base",
            "_model_module_version": "1.2.0",
            "_model_name": "LayoutModel",
            "_view_count": null,
            "_view_module": "@jupyter-widgets/base",
            "_view_module_version": "1.2.0",
            "_view_name": "LayoutView",
            "align_content": null,
            "align_items": null,
            "align_self": null,
            "border": null,
            "bottom": null,
            "display": null,
            "flex": null,
            "flex_flow": null,
            "grid_area": null,
            "grid_auto_columns": null,
            "grid_auto_flow": null,
            "grid_auto_rows": null,
            "grid_column": null,
            "grid_gap": null,
            "grid_row": null,
            "grid_template_areas": null,
            "grid_template_columns": null,
            "grid_template_rows": null,
            "height": null,
            "justify_content": null,
            "justify_items": null,
            "left": null,
            "margin": null,
            "max_height": null,
            "max_width": null,
            "min_height": null,
            "min_width": null,
            "object_fit": null,
            "object_position": null,
            "order": null,
            "overflow": null,
            "overflow_x": null,
            "overflow_y": null,
            "padding": null,
            "right": null,
            "top": null,
            "visibility": null,
            "width": null
          }
        },
        "5448e712a33e445aa2e0b1801ca7d47b": {
          "model_module": "@jupyter-widgets/base",
          "model_module_version": "1.2.0",
          "model_name": "LayoutModel",
          "state": {
            "_model_module": "@jupyter-widgets/base",
            "_model_module_version": "1.2.0",
            "_model_name": "LayoutModel",
            "_view_count": null,
            "_view_module": "@jupyter-widgets/base",
            "_view_module_version": "1.2.0",
            "_view_name": "LayoutView",
            "align_content": null,
            "align_items": null,
            "align_self": null,
            "border": null,
            "bottom": null,
            "display": null,
            "flex": null,
            "flex_flow": null,
            "grid_area": null,
            "grid_auto_columns": null,
            "grid_auto_flow": null,
            "grid_auto_rows": null,
            "grid_column": null,
            "grid_gap": null,
            "grid_row": null,
            "grid_template_areas": null,
            "grid_template_columns": null,
            "grid_template_rows": null,
            "height": null,
            "justify_content": null,
            "justify_items": null,
            "left": null,
            "margin": null,
            "max_height": null,
            "max_width": null,
            "min_height": null,
            "min_width": null,
            "object_fit": null,
            "object_position": null,
            "order": null,
            "overflow": null,
            "overflow_x": null,
            "overflow_y": null,
            "padding": null,
            "right": null,
            "top": null,
            "visibility": null,
            "width": null
          }
        },
        "55dd981244de452eac34b9800aba54e6": {
          "model_module": "@jupyter-widgets/base",
          "model_module_version": "1.2.0",
          "model_name": "LayoutModel",
          "state": {
            "_model_module": "@jupyter-widgets/base",
            "_model_module_version": "1.2.0",
            "_model_name": "LayoutModel",
            "_view_count": null,
            "_view_module": "@jupyter-widgets/base",
            "_view_module_version": "1.2.0",
            "_view_name": "LayoutView",
            "align_content": null,
            "align_items": null,
            "align_self": null,
            "border": null,
            "bottom": null,
            "display": null,
            "flex": null,
            "flex_flow": null,
            "grid_area": null,
            "grid_auto_columns": null,
            "grid_auto_flow": null,
            "grid_auto_rows": null,
            "grid_column": null,
            "grid_gap": null,
            "grid_row": null,
            "grid_template_areas": null,
            "grid_template_columns": null,
            "grid_template_rows": null,
            "height": null,
            "justify_content": null,
            "justify_items": null,
            "left": null,
            "margin": null,
            "max_height": null,
            "max_width": null,
            "min_height": null,
            "min_width": null,
            "object_fit": null,
            "object_position": null,
            "order": null,
            "overflow": null,
            "overflow_x": null,
            "overflow_y": null,
            "padding": null,
            "right": null,
            "top": null,
            "visibility": null,
            "width": null
          }
        },
        "56bb52b1cec644a3913651a76b5baf51": {
          "model_module": "@jupyter-widgets/controls",
          "model_module_version": "1.5.0",
          "model_name": "DescriptionStyleModel",
          "state": {
            "_model_module": "@jupyter-widgets/controls",
            "_model_module_version": "1.5.0",
            "_model_name": "DescriptionStyleModel",
            "_view_count": null,
            "_view_module": "@jupyter-widgets/base",
            "_view_module_version": "1.2.0",
            "_view_name": "StyleView",
            "description_width": ""
          }
        },
        "5bf8993548ac4790b634bf49c962d4b9": {
          "model_module": "@jupyter-widgets/base",
          "model_module_version": "1.2.0",
          "model_name": "LayoutModel",
          "state": {
            "_model_module": "@jupyter-widgets/base",
            "_model_module_version": "1.2.0",
            "_model_name": "LayoutModel",
            "_view_count": null,
            "_view_module": "@jupyter-widgets/base",
            "_view_module_version": "1.2.0",
            "_view_name": "LayoutView",
            "align_content": null,
            "align_items": null,
            "align_self": null,
            "border": null,
            "bottom": null,
            "display": null,
            "flex": null,
            "flex_flow": null,
            "grid_area": null,
            "grid_auto_columns": null,
            "grid_auto_flow": null,
            "grid_auto_rows": null,
            "grid_column": null,
            "grid_gap": null,
            "grid_row": null,
            "grid_template_areas": null,
            "grid_template_columns": null,
            "grid_template_rows": null,
            "height": null,
            "justify_content": null,
            "justify_items": null,
            "left": null,
            "margin": null,
            "max_height": null,
            "max_width": null,
            "min_height": null,
            "min_width": null,
            "object_fit": null,
            "object_position": null,
            "order": null,
            "overflow": null,
            "overflow_x": null,
            "overflow_y": null,
            "padding": null,
            "right": null,
            "top": null,
            "visibility": null,
            "width": null
          }
        },
        "6046d213ffb641b192f48546bf7f17c9": {
          "model_module": "@jupyter-widgets/controls",
          "model_module_version": "1.5.0",
          "model_name": "HTMLModel",
          "state": {
            "_dom_classes": [],
            "_model_module": "@jupyter-widgets/controls",
            "_model_module_version": "1.5.0",
            "_model_name": "HTMLModel",
            "_view_count": null,
            "_view_module": "@jupyter-widgets/controls",
            "_view_module_version": "1.5.0",
            "_view_name": "HTMLView",
            "description": "",
            "description_tooltip": null,
            "layout": "IPY_MODEL_6707aa4598be471596ec95a7b841caa8",
            "placeholder": "​",
            "style": "IPY_MODEL_b01768a5399b4e7b8bc0f9d600fc28c6",
            "value": " 2000/2000 [01:01&lt;00:00, 33.03it/s, loss=0.0212, acc=0.9900]"
          }
        },
        "658869d311274e478b016eb11b153f67": {
          "model_module": "@jupyter-widgets/controls",
          "model_module_version": "1.5.0",
          "model_name": "HTMLModel",
          "state": {
            "_dom_classes": [],
            "_model_module": "@jupyter-widgets/controls",
            "_model_module_version": "1.5.0",
            "_model_name": "HTMLModel",
            "_view_count": null,
            "_view_module": "@jupyter-widgets/controls",
            "_view_module_version": "1.5.0",
            "_view_name": "HTMLView",
            "description": "",
            "description_tooltip": null,
            "layout": "IPY_MODEL_ab1c987974dc41cbba44f988a56f54a0",
            "placeholder": "​",
            "style": "IPY_MODEL_ed534950b5c448c2b2ad8b09aa0012b6",
            "value": "Epoch 2/5: 100%"
          }
        },
        "6707aa4598be471596ec95a7b841caa8": {
          "model_module": "@jupyter-widgets/base",
          "model_module_version": "1.2.0",
          "model_name": "LayoutModel",
          "state": {
            "_model_module": "@jupyter-widgets/base",
            "_model_module_version": "1.2.0",
            "_model_name": "LayoutModel",
            "_view_count": null,
            "_view_module": "@jupyter-widgets/base",
            "_view_module_version": "1.2.0",
            "_view_name": "LayoutView",
            "align_content": null,
            "align_items": null,
            "align_self": null,
            "border": null,
            "bottom": null,
            "display": null,
            "flex": null,
            "flex_flow": null,
            "grid_area": null,
            "grid_auto_columns": null,
            "grid_auto_flow": null,
            "grid_auto_rows": null,
            "grid_column": null,
            "grid_gap": null,
            "grid_row": null,
            "grid_template_areas": null,
            "grid_template_columns": null,
            "grid_template_rows": null,
            "height": null,
            "justify_content": null,
            "justify_items": null,
            "left": null,
            "margin": null,
            "max_height": null,
            "max_width": null,
            "min_height": null,
            "min_width": null,
            "object_fit": null,
            "object_position": null,
            "order": null,
            "overflow": null,
            "overflow_x": null,
            "overflow_y": null,
            "padding": null,
            "right": null,
            "top": null,
            "visibility": null,
            "width": null
          }
        },
        "6769e3f5f63546419da9cd94608e5997": {
          "model_module": "@jupyter-widgets/controls",
          "model_module_version": "1.5.0",
          "model_name": "FloatProgressModel",
          "state": {
            "_dom_classes": [],
            "_model_module": "@jupyter-widgets/controls",
            "_model_module_version": "1.5.0",
            "_model_name": "FloatProgressModel",
            "_view_count": null,
            "_view_module": "@jupyter-widgets/controls",
            "_view_module_version": "1.5.0",
            "_view_name": "ProgressView",
            "bar_style": "success",
            "description": "",
            "description_tooltip": null,
            "layout": "IPY_MODEL_d242f2e198504c028de43ce548faaec0",
            "max": 2000,
            "min": 0,
            "orientation": "horizontal",
            "style": "IPY_MODEL_964e4111c9874c3782724aa5aa81f0d0",
            "value": 2000
          }
        },
        "75224b35014648e49bed02ceafebf944": {
          "model_module": "@jupyter-widgets/controls",
          "model_module_version": "1.5.0",
          "model_name": "HTMLModel",
          "state": {
            "_dom_classes": [],
            "_model_module": "@jupyter-widgets/controls",
            "_model_module_version": "1.5.0",
            "_model_name": "HTMLModel",
            "_view_count": null,
            "_view_module": "@jupyter-widgets/controls",
            "_view_module_version": "1.5.0",
            "_view_name": "HTMLView",
            "description": "",
            "description_tooltip": null,
            "layout": "IPY_MODEL_c32d76baf6cb4c93acb1156c9fba6c37",
            "placeholder": "​",
            "style": "IPY_MODEL_169508e4f8fd47f18bda1c93005c5344",
            "value": "Test Episodes: 100%"
          }
        },
        "78f8fc4eb0ea4b99ab5f1b3c28af5e95": {
          "model_module": "@jupyter-widgets/controls",
          "model_module_version": "1.5.0",
          "model_name": "DescriptionStyleModel",
          "state": {
            "_model_module": "@jupyter-widgets/controls",
            "_model_module_version": "1.5.0",
            "_model_name": "DescriptionStyleModel",
            "_view_count": null,
            "_view_module": "@jupyter-widgets/base",
            "_view_module_version": "1.2.0",
            "_view_name": "StyleView",
            "description_width": ""
          }
        },
        "84b3a607706b4c82ad192f9076d9d72c": {
          "model_module": "@jupyter-widgets/controls",
          "model_module_version": "1.5.0",
          "model_name": "HTMLModel",
          "state": {
            "_dom_classes": [],
            "_model_module": "@jupyter-widgets/controls",
            "_model_module_version": "1.5.0",
            "_model_name": "HTMLModel",
            "_view_count": null,
            "_view_module": "@jupyter-widgets/controls",
            "_view_module_version": "1.5.0",
            "_view_name": "HTMLView",
            "description": "",
            "description_tooltip": null,
            "layout": "IPY_MODEL_f277cd9804c34aeeb3bde9560a89735e",
            "placeholder": "​",
            "style": "IPY_MODEL_9fa3f0a3da85458f8768b7362fb08bdc",
            "value": " 2000/2000 [01:01&lt;00:00, 33.09it/s, loss=0.0337, acc=0.9833]"
          }
        },
        "85b2783545504c1da7b734f3ad5e0803": {
          "model_module": "@jupyter-widgets/controls",
          "model_module_version": "1.5.0",
          "model_name": "HTMLModel",
          "state": {
            "_dom_classes": [],
            "_model_module": "@jupyter-widgets/controls",
            "_model_module_version": "1.5.0",
            "_model_name": "HTMLModel",
            "_view_count": null,
            "_view_module": "@jupyter-widgets/controls",
            "_view_module_version": "1.5.0",
            "_view_name": "HTMLView",
            "description": "",
            "description_tooltip": null,
            "layout": "IPY_MODEL_052b468c51a04e1a816e22cafb89d130",
            "placeholder": "​",
            "style": "IPY_MODEL_ee7532ace22944a6be0a54de849bd4b5",
            "value": " 2000/2000 [01:01&lt;00:00, 18.28it/s, loss=0.0162, acc=0.9967]"
          }
        },
        "8a859155709d413fb85f8aa112223209": {
          "model_module": "@jupyter-widgets/base",
          "model_module_version": "1.2.0",
          "model_name": "LayoutModel",
          "state": {
            "_model_module": "@jupyter-widgets/base",
            "_model_module_version": "1.2.0",
            "_model_name": "LayoutModel",
            "_view_count": null,
            "_view_module": "@jupyter-widgets/base",
            "_view_module_version": "1.2.0",
            "_view_name": "LayoutView",
            "align_content": null,
            "align_items": null,
            "align_self": null,
            "border": null,
            "bottom": null,
            "display": null,
            "flex": null,
            "flex_flow": null,
            "grid_area": null,
            "grid_auto_columns": null,
            "grid_auto_flow": null,
            "grid_auto_rows": null,
            "grid_column": null,
            "grid_gap": null,
            "grid_row": null,
            "grid_template_areas": null,
            "grid_template_columns": null,
            "grid_template_rows": null,
            "height": null,
            "justify_content": null,
            "justify_items": null,
            "left": null,
            "margin": null,
            "max_height": null,
            "max_width": null,
            "min_height": null,
            "min_width": null,
            "object_fit": null,
            "object_position": null,
            "order": null,
            "overflow": null,
            "overflow_x": null,
            "overflow_y": null,
            "padding": null,
            "right": null,
            "top": null,
            "visibility": null,
            "width": null
          }
        },
        "8e9b8e957cd149d6a35a4ec5cd8d4b1b": {
          "model_module": "@jupyter-widgets/base",
          "model_module_version": "1.2.0",
          "model_name": "LayoutModel",
          "state": {
            "_model_module": "@jupyter-widgets/base",
            "_model_module_version": "1.2.0",
            "_model_name": "LayoutModel",
            "_view_count": null,
            "_view_module": "@jupyter-widgets/base",
            "_view_module_version": "1.2.0",
            "_view_name": "LayoutView",
            "align_content": null,
            "align_items": null,
            "align_self": null,
            "border": null,
            "bottom": null,
            "display": null,
            "flex": null,
            "flex_flow": null,
            "grid_area": null,
            "grid_auto_columns": null,
            "grid_auto_flow": null,
            "grid_auto_rows": null,
            "grid_column": null,
            "grid_gap": null,
            "grid_row": null,
            "grid_template_areas": null,
            "grid_template_columns": null,
            "grid_template_rows": null,
            "height": null,
            "justify_content": null,
            "justify_items": null,
            "left": null,
            "margin": null,
            "max_height": null,
            "max_width": null,
            "min_height": null,
            "min_width": null,
            "object_fit": null,
            "object_position": null,
            "order": null,
            "overflow": null,
            "overflow_x": null,
            "overflow_y": null,
            "padding": null,
            "right": null,
            "top": null,
            "visibility": null,
            "width": null
          }
        },
        "9507106ca10a44be857d9df23d44a96c": {
          "model_module": "@jupyter-widgets/controls",
          "model_module_version": "1.5.0",
          "model_name": "HBoxModel",
          "state": {
            "_dom_classes": [],
            "_model_module": "@jupyter-widgets/controls",
            "_model_module_version": "1.5.0",
            "_model_name": "HBoxModel",
            "_view_count": null,
            "_view_module": "@jupyter-widgets/controls",
            "_view_module_version": "1.5.0",
            "_view_name": "HBoxView",
            "box_style": "",
            "children": [
              "IPY_MODEL_75224b35014648e49bed02ceafebf944",
              "IPY_MODEL_e68162a5dfca41df97763b5f2fa969ae",
              "IPY_MODEL_f7727052e78a4ce0ab0c399e9d65334d"
            ],
            "layout": "IPY_MODEL_20553af20fdc453191e83ac987082a8e"
          }
        },
        "964e4111c9874c3782724aa5aa81f0d0": {
          "model_module": "@jupyter-widgets/controls",
          "model_module_version": "1.5.0",
          "model_name": "ProgressStyleModel",
          "state": {
            "_model_module": "@jupyter-widgets/controls",
            "_model_module_version": "1.5.0",
            "_model_name": "ProgressStyleModel",
            "_view_count": null,
            "_view_module": "@jupyter-widgets/base",
            "_view_module_version": "1.2.0",
            "_view_name": "StyleView",
            "bar_color": null,
            "description_width": ""
          }
        },
        "9c0975a2e643492a80abb694a4b503cb": {
          "model_module": "@jupyter-widgets/base",
          "model_module_version": "1.2.0",
          "model_name": "LayoutModel",
          "state": {
            "_model_module": "@jupyter-widgets/base",
            "_model_module_version": "1.2.0",
            "_model_name": "LayoutModel",
            "_view_count": null,
            "_view_module": "@jupyter-widgets/base",
            "_view_module_version": "1.2.0",
            "_view_name": "LayoutView",
            "align_content": null,
            "align_items": null,
            "align_self": null,
            "border": null,
            "bottom": null,
            "display": null,
            "flex": null,
            "flex_flow": null,
            "grid_area": null,
            "grid_auto_columns": null,
            "grid_auto_flow": null,
            "grid_auto_rows": null,
            "grid_column": null,
            "grid_gap": null,
            "grid_row": null,
            "grid_template_areas": null,
            "grid_template_columns": null,
            "grid_template_rows": null,
            "height": null,
            "justify_content": null,
            "justify_items": null,
            "left": null,
            "margin": null,
            "max_height": null,
            "max_width": null,
            "min_height": null,
            "min_width": null,
            "object_fit": null,
            "object_position": null,
            "order": null,
            "overflow": null,
            "overflow_x": null,
            "overflow_y": null,
            "padding": null,
            "right": null,
            "top": null,
            "visibility": null,
            "width": null
          }
        },
        "9fa3f0a3da85458f8768b7362fb08bdc": {
          "model_module": "@jupyter-widgets/controls",
          "model_module_version": "1.5.0",
          "model_name": "DescriptionStyleModel",
          "state": {
            "_model_module": "@jupyter-widgets/controls",
            "_model_module_version": "1.5.0",
            "_model_name": "DescriptionStyleModel",
            "_view_count": null,
            "_view_module": "@jupyter-widgets/base",
            "_view_module_version": "1.2.0",
            "_view_name": "StyleView",
            "description_width": ""
          }
        },
        "a18cc4d6fbec4a9eabd2fe16d0af5428": {
          "model_module": "@jupyter-widgets/controls",
          "model_module_version": "1.5.0",
          "model_name": "ProgressStyleModel",
          "state": {
            "_model_module": "@jupyter-widgets/controls",
            "_model_module_version": "1.5.0",
            "_model_name": "ProgressStyleModel",
            "_view_count": null,
            "_view_module": "@jupyter-widgets/base",
            "_view_module_version": "1.2.0",
            "_view_name": "StyleView",
            "bar_color": null,
            "description_width": ""
          }
        },
        "ab1c987974dc41cbba44f988a56f54a0": {
          "model_module": "@jupyter-widgets/base",
          "model_module_version": "1.2.0",
          "model_name": "LayoutModel",
          "state": {
            "_model_module": "@jupyter-widgets/base",
            "_model_module_version": "1.2.0",
            "_model_name": "LayoutModel",
            "_view_count": null,
            "_view_module": "@jupyter-widgets/base",
            "_view_module_version": "1.2.0",
            "_view_name": "LayoutView",
            "align_content": null,
            "align_items": null,
            "align_self": null,
            "border": null,
            "bottom": null,
            "display": null,
            "flex": null,
            "flex_flow": null,
            "grid_area": null,
            "grid_auto_columns": null,
            "grid_auto_flow": null,
            "grid_auto_rows": null,
            "grid_column": null,
            "grid_gap": null,
            "grid_row": null,
            "grid_template_areas": null,
            "grid_template_columns": null,
            "grid_template_rows": null,
            "height": null,
            "justify_content": null,
            "justify_items": null,
            "left": null,
            "margin": null,
            "max_height": null,
            "max_width": null,
            "min_height": null,
            "min_width": null,
            "object_fit": null,
            "object_position": null,
            "order": null,
            "overflow": null,
            "overflow_x": null,
            "overflow_y": null,
            "padding": null,
            "right": null,
            "top": null,
            "visibility": null,
            "width": null
          }
        },
        "b01768a5399b4e7b8bc0f9d600fc28c6": {
          "model_module": "@jupyter-widgets/controls",
          "model_module_version": "1.5.0",
          "model_name": "DescriptionStyleModel",
          "state": {
            "_model_module": "@jupyter-widgets/controls",
            "_model_module_version": "1.5.0",
            "_model_name": "DescriptionStyleModel",
            "_view_count": null,
            "_view_module": "@jupyter-widgets/base",
            "_view_module_version": "1.2.0",
            "_view_name": "StyleView",
            "description_width": ""
          }
        },
        "b3cea3888dfc4655acd3da5c9686a755": {
          "model_module": "@jupyter-widgets/base",
          "model_module_version": "1.2.0",
          "model_name": "LayoutModel",
          "state": {
            "_model_module": "@jupyter-widgets/base",
            "_model_module_version": "1.2.0",
            "_model_name": "LayoutModel",
            "_view_count": null,
            "_view_module": "@jupyter-widgets/base",
            "_view_module_version": "1.2.0",
            "_view_name": "LayoutView",
            "align_content": null,
            "align_items": null,
            "align_self": null,
            "border": null,
            "bottom": null,
            "display": null,
            "flex": null,
            "flex_flow": null,
            "grid_area": null,
            "grid_auto_columns": null,
            "grid_auto_flow": null,
            "grid_auto_rows": null,
            "grid_column": null,
            "grid_gap": null,
            "grid_row": null,
            "grid_template_areas": null,
            "grid_template_columns": null,
            "grid_template_rows": null,
            "height": null,
            "justify_content": null,
            "justify_items": null,
            "left": null,
            "margin": null,
            "max_height": null,
            "max_width": null,
            "min_height": null,
            "min_width": null,
            "object_fit": null,
            "object_position": null,
            "order": null,
            "overflow": null,
            "overflow_x": null,
            "overflow_y": null,
            "padding": null,
            "right": null,
            "top": null,
            "visibility": null,
            "width": null
          }
        },
        "b5475194c1b54a2896f7df4b78725ca6": {
          "model_module": "@jupyter-widgets/controls",
          "model_module_version": "1.5.0",
          "model_name": "HTMLModel",
          "state": {
            "_dom_classes": [],
            "_model_module": "@jupyter-widgets/controls",
            "_model_module_version": "1.5.0",
            "_model_name": "HTMLModel",
            "_view_count": null,
            "_view_module": "@jupyter-widgets/controls",
            "_view_module_version": "1.5.0",
            "_view_name": "HTMLView",
            "description": "",
            "description_tooltip": null,
            "layout": "IPY_MODEL_8a859155709d413fb85f8aa112223209",
            "placeholder": "​",
            "style": "IPY_MODEL_1812e6f712ed478293018a174d1be4d2",
            "value": "Epoch 5/5: 100%"
          }
        },
        "b92d8173066d4cf38f71e96cc08027d5": {
          "model_module": "@jupyter-widgets/base",
          "model_module_version": "1.2.0",
          "model_name": "LayoutModel",
          "state": {
            "_model_module": "@jupyter-widgets/base",
            "_model_module_version": "1.2.0",
            "_model_name": "LayoutModel",
            "_view_count": null,
            "_view_module": "@jupyter-widgets/base",
            "_view_module_version": "1.2.0",
            "_view_name": "LayoutView",
            "align_content": null,
            "align_items": null,
            "align_self": null,
            "border": null,
            "bottom": null,
            "display": null,
            "flex": null,
            "flex_flow": null,
            "grid_area": null,
            "grid_auto_columns": null,
            "grid_auto_flow": null,
            "grid_auto_rows": null,
            "grid_column": null,
            "grid_gap": null,
            "grid_row": null,
            "grid_template_areas": null,
            "grid_template_columns": null,
            "grid_template_rows": null,
            "height": null,
            "justify_content": null,
            "justify_items": null,
            "left": null,
            "margin": null,
            "max_height": null,
            "max_width": null,
            "min_height": null,
            "min_width": null,
            "object_fit": null,
            "object_position": null,
            "order": null,
            "overflow": null,
            "overflow_x": null,
            "overflow_y": null,
            "padding": null,
            "right": null,
            "top": null,
            "visibility": null,
            "width": null
          }
        },
        "bacdac67cda7483284e2d4109d59354f": {
          "model_module": "@jupyter-widgets/controls",
          "model_module_version": "1.5.0",
          "model_name": "HBoxModel",
          "state": {
            "_dom_classes": [],
            "_model_module": "@jupyter-widgets/controls",
            "_model_module_version": "1.5.0",
            "_model_name": "HBoxModel",
            "_view_count": null,
            "_view_module": "@jupyter-widgets/controls",
            "_view_module_version": "1.5.0",
            "_view_name": "HBoxView",
            "box_style": "",
            "children": [
              "IPY_MODEL_3eab948b53274a128ecad12057a1fe83",
              "IPY_MODEL_e7d14e6ecc6542779f99d4e85de6d616",
              "IPY_MODEL_38a803da86a14973a6cde059b7033db7"
            ],
            "layout": "IPY_MODEL_9c0975a2e643492a80abb694a4b503cb"
          }
        },
        "bed2455384da4d659305411b3c7f04f2": {
          "model_module": "@jupyter-widgets/controls",
          "model_module_version": "1.5.0",
          "model_name": "DescriptionStyleModel",
          "state": {
            "_model_module": "@jupyter-widgets/controls",
            "_model_module_version": "1.5.0",
            "_model_name": "DescriptionStyleModel",
            "_view_count": null,
            "_view_module": "@jupyter-widgets/base",
            "_view_module_version": "1.2.0",
            "_view_name": "StyleView",
            "description_width": ""
          }
        },
        "bf32b654f3d14696b6e74274f26ab90c": {
          "model_module": "@jupyter-widgets/controls",
          "model_module_version": "1.5.0",
          "model_name": "ProgressStyleModel",
          "state": {
            "_model_module": "@jupyter-widgets/controls",
            "_model_module_version": "1.5.0",
            "_model_name": "ProgressStyleModel",
            "_view_count": null,
            "_view_module": "@jupyter-widgets/base",
            "_view_module_version": "1.2.0",
            "_view_name": "StyleView",
            "bar_color": null,
            "description_width": ""
          }
        },
        "c02a001fab474b33ac37f07f0ca861cb": {
          "model_module": "@jupyter-widgets/base",
          "model_module_version": "1.2.0",
          "model_name": "LayoutModel",
          "state": {
            "_model_module": "@jupyter-widgets/base",
            "_model_module_version": "1.2.0",
            "_model_name": "LayoutModel",
            "_view_count": null,
            "_view_module": "@jupyter-widgets/base",
            "_view_module_version": "1.2.0",
            "_view_name": "LayoutView",
            "align_content": null,
            "align_items": null,
            "align_self": null,
            "border": null,
            "bottom": null,
            "display": null,
            "flex": null,
            "flex_flow": null,
            "grid_area": null,
            "grid_auto_columns": null,
            "grid_auto_flow": null,
            "grid_auto_rows": null,
            "grid_column": null,
            "grid_gap": null,
            "grid_row": null,
            "grid_template_areas": null,
            "grid_template_columns": null,
            "grid_template_rows": null,
            "height": null,
            "justify_content": null,
            "justify_items": null,
            "left": null,
            "margin": null,
            "max_height": null,
            "max_width": null,
            "min_height": null,
            "min_width": null,
            "object_fit": null,
            "object_position": null,
            "order": null,
            "overflow": null,
            "overflow_x": null,
            "overflow_y": null,
            "padding": null,
            "right": null,
            "top": null,
            "visibility": null,
            "width": null
          }
        },
        "c32d76baf6cb4c93acb1156c9fba6c37": {
          "model_module": "@jupyter-widgets/base",
          "model_module_version": "1.2.0",
          "model_name": "LayoutModel",
          "state": {
            "_model_module": "@jupyter-widgets/base",
            "_model_module_version": "1.2.0",
            "_model_name": "LayoutModel",
            "_view_count": null,
            "_view_module": "@jupyter-widgets/base",
            "_view_module_version": "1.2.0",
            "_view_name": "LayoutView",
            "align_content": null,
            "align_items": null,
            "align_self": null,
            "border": null,
            "bottom": null,
            "display": null,
            "flex": null,
            "flex_flow": null,
            "grid_area": null,
            "grid_auto_columns": null,
            "grid_auto_flow": null,
            "grid_auto_rows": null,
            "grid_column": null,
            "grid_gap": null,
            "grid_row": null,
            "grid_template_areas": null,
            "grid_template_columns": null,
            "grid_template_rows": null,
            "height": null,
            "justify_content": null,
            "justify_items": null,
            "left": null,
            "margin": null,
            "max_height": null,
            "max_width": null,
            "min_height": null,
            "min_width": null,
            "object_fit": null,
            "object_position": null,
            "order": null,
            "overflow": null,
            "overflow_x": null,
            "overflow_y": null,
            "padding": null,
            "right": null,
            "top": null,
            "visibility": null,
            "width": null
          }
        },
        "d0cdc77eaf4a45e1bca2af7adae29e89": {
          "model_module": "@jupyter-widgets/controls",
          "model_module_version": "1.5.0",
          "model_name": "HBoxModel",
          "state": {
            "_dom_classes": [],
            "_model_module": "@jupyter-widgets/controls",
            "_model_module_version": "1.5.0",
            "_model_name": "HBoxModel",
            "_view_count": null,
            "_view_module": "@jupyter-widgets/controls",
            "_view_module_version": "1.5.0",
            "_view_name": "HBoxView",
            "box_style": "",
            "children": [
              "IPY_MODEL_f4cff074531a48d0bdd4abe49008fdbb",
              "IPY_MODEL_1d97eaad4910484bbaea955ed129893b",
              "IPY_MODEL_f991e726658e4d6c9ef9a834397a96f4"
            ],
            "layout": "IPY_MODEL_c02a001fab474b33ac37f07f0ca861cb"
          }
        },
        "d242f2e198504c028de43ce548faaec0": {
          "model_module": "@jupyter-widgets/base",
          "model_module_version": "1.2.0",
          "model_name": "LayoutModel",
          "state": {
            "_model_module": "@jupyter-widgets/base",
            "_model_module_version": "1.2.0",
            "_model_name": "LayoutModel",
            "_view_count": null,
            "_view_module": "@jupyter-widgets/base",
            "_view_module_version": "1.2.0",
            "_view_name": "LayoutView",
            "align_content": null,
            "align_items": null,
            "align_self": null,
            "border": null,
            "bottom": null,
            "display": null,
            "flex": null,
            "flex_flow": null,
            "grid_area": null,
            "grid_auto_columns": null,
            "grid_auto_flow": null,
            "grid_auto_rows": null,
            "grid_column": null,
            "grid_gap": null,
            "grid_row": null,
            "grid_template_areas": null,
            "grid_template_columns": null,
            "grid_template_rows": null,
            "height": null,
            "justify_content": null,
            "justify_items": null,
            "left": null,
            "margin": null,
            "max_height": null,
            "max_width": null,
            "min_height": null,
            "min_width": null,
            "object_fit": null,
            "object_position": null,
            "order": null,
            "overflow": null,
            "overflow_x": null,
            "overflow_y": null,
            "padding": null,
            "right": null,
            "top": null,
            "visibility": null,
            "width": null
          }
        },
        "e243ced61f474c3e9cf4ae99138a4f31": {
          "model_module": "@jupyter-widgets/controls",
          "model_module_version": "1.5.0",
          "model_name": "ProgressStyleModel",
          "state": {
            "_model_module": "@jupyter-widgets/controls",
            "_model_module_version": "1.5.0",
            "_model_name": "ProgressStyleModel",
            "_view_count": null,
            "_view_module": "@jupyter-widgets/base",
            "_view_module_version": "1.2.0",
            "_view_name": "StyleView",
            "bar_color": null,
            "description_width": ""
          }
        },
        "e4112ec1713b49b68dca346f6d12db53": {
          "model_module": "@jupyter-widgets/base",
          "model_module_version": "1.2.0",
          "model_name": "LayoutModel",
          "state": {
            "_model_module": "@jupyter-widgets/base",
            "_model_module_version": "1.2.0",
            "_model_name": "LayoutModel",
            "_view_count": null,
            "_view_module": "@jupyter-widgets/base",
            "_view_module_version": "1.2.0",
            "_view_name": "LayoutView",
            "align_content": null,
            "align_items": null,
            "align_self": null,
            "border": null,
            "bottom": null,
            "display": null,
            "flex": null,
            "flex_flow": null,
            "grid_area": null,
            "grid_auto_columns": null,
            "grid_auto_flow": null,
            "grid_auto_rows": null,
            "grid_column": null,
            "grid_gap": null,
            "grid_row": null,
            "grid_template_areas": null,
            "grid_template_columns": null,
            "grid_template_rows": null,
            "height": null,
            "justify_content": null,
            "justify_items": null,
            "left": null,
            "margin": null,
            "max_height": null,
            "max_width": null,
            "min_height": null,
            "min_width": null,
            "object_fit": null,
            "object_position": null,
            "order": null,
            "overflow": null,
            "overflow_x": null,
            "overflow_y": null,
            "padding": null,
            "right": null,
            "top": null,
            "visibility": null,
            "width": null
          }
        },
        "e68162a5dfca41df97763b5f2fa969ae": {
          "model_module": "@jupyter-widgets/controls",
          "model_module_version": "1.5.0",
          "model_name": "FloatProgressModel",
          "state": {
            "_dom_classes": [],
            "_model_module": "@jupyter-widgets/controls",
            "_model_module_version": "1.5.0",
            "_model_name": "FloatProgressModel",
            "_view_count": null,
            "_view_module": "@jupyter-widgets/controls",
            "_view_module_version": "1.5.0",
            "_view_name": "ProgressView",
            "bar_style": "success",
            "description": "",
            "description_tooltip": null,
            "layout": "IPY_MODEL_e4112ec1713b49b68dca346f6d12db53",
            "max": 1000,
            "min": 0,
            "orientation": "horizontal",
            "style": "IPY_MODEL_fa8f3e4e92d340dfaf070dda8edf436e",
            "value": 1000
          }
        },
        "e7d14e6ecc6542779f99d4e85de6d616": {
          "model_module": "@jupyter-widgets/controls",
          "model_module_version": "1.5.0",
          "model_name": "FloatProgressModel",
          "state": {
            "_dom_classes": [],
            "_model_module": "@jupyter-widgets/controls",
            "_model_module_version": "1.5.0",
            "_model_name": "FloatProgressModel",
            "_view_count": null,
            "_view_module": "@jupyter-widgets/controls",
            "_view_module_version": "1.5.0",
            "_view_name": "ProgressView",
            "bar_style": "success",
            "description": "",
            "description_tooltip": null,
            "layout": "IPY_MODEL_eddb95490d19457c989a2c039d229328",
            "max": 2000,
            "min": 0,
            "orientation": "horizontal",
            "style": "IPY_MODEL_479a50e30e24428a841c3f33efedaf54",
            "value": 2000
          }
        },
        "ed534950b5c448c2b2ad8b09aa0012b6": {
          "model_module": "@jupyter-widgets/controls",
          "model_module_version": "1.5.0",
          "model_name": "DescriptionStyleModel",
          "state": {
            "_model_module": "@jupyter-widgets/controls",
            "_model_module_version": "1.5.0",
            "_model_name": "DescriptionStyleModel",
            "_view_count": null,
            "_view_module": "@jupyter-widgets/base",
            "_view_module_version": "1.2.0",
            "_view_name": "StyleView",
            "description_width": ""
          }
        },
        "eddb95490d19457c989a2c039d229328": {
          "model_module": "@jupyter-widgets/base",
          "model_module_version": "1.2.0",
          "model_name": "LayoutModel",
          "state": {
            "_model_module": "@jupyter-widgets/base",
            "_model_module_version": "1.2.0",
            "_model_name": "LayoutModel",
            "_view_count": null,
            "_view_module": "@jupyter-widgets/base",
            "_view_module_version": "1.2.0",
            "_view_name": "LayoutView",
            "align_content": null,
            "align_items": null,
            "align_self": null,
            "border": null,
            "bottom": null,
            "display": null,
            "flex": null,
            "flex_flow": null,
            "grid_area": null,
            "grid_auto_columns": null,
            "grid_auto_flow": null,
            "grid_auto_rows": null,
            "grid_column": null,
            "grid_gap": null,
            "grid_row": null,
            "grid_template_areas": null,
            "grid_template_columns": null,
            "grid_template_rows": null,
            "height": null,
            "justify_content": null,
            "justify_items": null,
            "left": null,
            "margin": null,
            "max_height": null,
            "max_width": null,
            "min_height": null,
            "min_width": null,
            "object_fit": null,
            "object_position": null,
            "order": null,
            "overflow": null,
            "overflow_x": null,
            "overflow_y": null,
            "padding": null,
            "right": null,
            "top": null,
            "visibility": null,
            "width": null
          }
        },
        "ee5697c6085347a98c508073b27e83cb": {
          "model_module": "@jupyter-widgets/controls",
          "model_module_version": "1.5.0",
          "model_name": "DescriptionStyleModel",
          "state": {
            "_model_module": "@jupyter-widgets/controls",
            "_model_module_version": "1.5.0",
            "_model_name": "DescriptionStyleModel",
            "_view_count": null,
            "_view_module": "@jupyter-widgets/base",
            "_view_module_version": "1.2.0",
            "_view_name": "StyleView",
            "description_width": ""
          }
        },
        "ee7532ace22944a6be0a54de849bd4b5": {
          "model_module": "@jupyter-widgets/controls",
          "model_module_version": "1.5.0",
          "model_name": "DescriptionStyleModel",
          "state": {
            "_model_module": "@jupyter-widgets/controls",
            "_model_module_version": "1.5.0",
            "_model_name": "DescriptionStyleModel",
            "_view_count": null,
            "_view_module": "@jupyter-widgets/base",
            "_view_module_version": "1.2.0",
            "_view_name": "StyleView",
            "description_width": ""
          }
        },
        "f277cd9804c34aeeb3bde9560a89735e": {
          "model_module": "@jupyter-widgets/base",
          "model_module_version": "1.2.0",
          "model_name": "LayoutModel",
          "state": {
            "_model_module": "@jupyter-widgets/base",
            "_model_module_version": "1.2.0",
            "_model_name": "LayoutModel",
            "_view_count": null,
            "_view_module": "@jupyter-widgets/base",
            "_view_module_version": "1.2.0",
            "_view_name": "LayoutView",
            "align_content": null,
            "align_items": null,
            "align_self": null,
            "border": null,
            "bottom": null,
            "display": null,
            "flex": null,
            "flex_flow": null,
            "grid_area": null,
            "grid_auto_columns": null,
            "grid_auto_flow": null,
            "grid_auto_rows": null,
            "grid_column": null,
            "grid_gap": null,
            "grid_row": null,
            "grid_template_areas": null,
            "grid_template_columns": null,
            "grid_template_rows": null,
            "height": null,
            "justify_content": null,
            "justify_items": null,
            "left": null,
            "margin": null,
            "max_height": null,
            "max_width": null,
            "min_height": null,
            "min_width": null,
            "object_fit": null,
            "object_position": null,
            "order": null,
            "overflow": null,
            "overflow_x": null,
            "overflow_y": null,
            "padding": null,
            "right": null,
            "top": null,
            "visibility": null,
            "width": null
          }
        },
        "f4cff074531a48d0bdd4abe49008fdbb": {
          "model_module": "@jupyter-widgets/controls",
          "model_module_version": "1.5.0",
          "model_name": "HTMLModel",
          "state": {
            "_dom_classes": [],
            "_model_module": "@jupyter-widgets/controls",
            "_model_module_version": "1.5.0",
            "_model_name": "HTMLModel",
            "_view_count": null,
            "_view_module": "@jupyter-widgets/controls",
            "_view_module_version": "1.5.0",
            "_view_name": "HTMLView",
            "description": "",
            "description_tooltip": null,
            "layout": "IPY_MODEL_b92d8173066d4cf38f71e96cc08027d5",
            "placeholder": "​",
            "style": "IPY_MODEL_ee5697c6085347a98c508073b27e83cb",
            "value": "Epoch 4/5: 100%"
          }
        },
        "f7727052e78a4ce0ab0c399e9d65334d": {
          "model_module": "@jupyter-widgets/controls",
          "model_module_version": "1.5.0",
          "model_name": "HTMLModel",
          "state": {
            "_dom_classes": [],
            "_model_module": "@jupyter-widgets/controls",
            "_model_module_version": "1.5.0",
            "_model_name": "HTMLModel",
            "_view_count": null,
            "_view_module": "@jupyter-widgets/controls",
            "_view_module_version": "1.5.0",
            "_view_name": "HTMLView",
            "description": "",
            "description_tooltip": null,
            "layout": "IPY_MODEL_270fb15876184d4c96289ba9e6e24a32",
            "placeholder": "​",
            "style": "IPY_MODEL_56bb52b1cec644a3913651a76b5baf51",
            "value": " 1000/1000 [00:02&lt;00:00, 356.64it/s]"
          }
        },
        "f83a7e28260d4947af7986b05af442d0": {
          "model_module": "@jupyter-widgets/controls",
          "model_module_version": "1.5.0",
          "model_name": "DescriptionStyleModel",
          "state": {
            "_model_module": "@jupyter-widgets/controls",
            "_model_module_version": "1.5.0",
            "_model_name": "DescriptionStyleModel",
            "_view_count": null,
            "_view_module": "@jupyter-widgets/base",
            "_view_module_version": "1.2.0",
            "_view_name": "StyleView",
            "description_width": ""
          }
        },
        "f991e726658e4d6c9ef9a834397a96f4": {
          "model_module": "@jupyter-widgets/controls",
          "model_module_version": "1.5.0",
          "model_name": "HTMLModel",
          "state": {
            "_dom_classes": [],
            "_model_module": "@jupyter-widgets/controls",
            "_model_module_version": "1.5.0",
            "_model_name": "HTMLModel",
            "_view_count": null,
            "_view_module": "@jupyter-widgets/controls",
            "_view_module_version": "1.5.0",
            "_view_name": "HTMLView",
            "description": "",
            "description_tooltip": null,
            "layout": "IPY_MODEL_30d1045791944191ad2c7a2175341873",
            "placeholder": "​",
            "style": "IPY_MODEL_78f8fc4eb0ea4b99ab5f1b3c28af5e95",
            "value": " 2000/2000 [01:01&lt;00:00, 33.02it/s, loss=0.0483, acc=0.9833]"
          }
        },
        "fa8f3e4e92d340dfaf070dda8edf436e": {
          "model_module": "@jupyter-widgets/controls",
          "model_module_version": "1.5.0",
          "model_name": "ProgressStyleModel",
          "state": {
            "_model_module": "@jupyter-widgets/controls",
            "_model_module_version": "1.5.0",
            "_model_name": "ProgressStyleModel",
            "_view_count": null,
            "_view_module": "@jupyter-widgets/base",
            "_view_module_version": "1.2.0",
            "_view_name": "StyleView",
            "bar_color": null,
            "description_width": ""
          }
        }
      }
    }
  },
  "nbformat": 4,
  "nbformat_minor": 0
}
